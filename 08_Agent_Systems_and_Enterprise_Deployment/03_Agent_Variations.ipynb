{
 "cells": [
  {
   "cell_type": "markdown",
   "id": "0335dd12-305e-482b-ad32-49ad53783a2a",
   "metadata": {},
   "source": [
    "# The Price is Right\n",
    "\n",
    "Today we build a more complex solution for estimating prices of goods.\n",
    "\n",
    "1. This notebook: create a RAG database with our 400,000 training data\n",
    "2. Day 2.1 notebook: visualize in 2D\n",
    "3. Day 2.2 notebook: visualize in 3D\n",
    "4. Day 2.3 notebook: build and test a RAG pipeline with GPT-4o-mini\n",
    "5. Day 2.4 notebook: (a) bring back our Random Forest pricer (b) Create a Ensemble pricer that allows contributions from all the pricers\n",
    "\n",
    "Phew! That's a lot to get through in one day!\n",
    "\n",
    "## PLEASE NOTE:\n",
    "\n",
    "We already have a very powerful product estimator with our proprietary, fine-tuned LLM. Most people would be very satisfied with that! The main reason we're adding these extra steps is to deepen your expertise with RAG and with Agentic workflows.\n"
   ]
  },
  {
   "cell_type": "code",
   "execution_count": null,
   "id": "083ff3aa-88dc-468a-98e1-c856a7234961",
   "metadata": {},
   "outputs": [],
   "source": [
    "# imports\n",
    "\n",
    "import os\n",
    "import re\n",
    "import math\n",
    "import json\n",
    "from tqdm import tqdm\n",
    "import random\n",
    "from dotenv import load_dotenv\n",
    "from huggingface_hub import login\n",
    "import numpy as np\n",
    "import pickle\n",
    "from sentence_transformers import SentenceTransformer,util\n",
    "from datasets import load_dataset\n",
    "import chromadb\n",
    "from sklearn.manifold import TSNE\n",
    "import plotly.graph_objects as go"
   ]
  },
  {
   "cell_type": "code",
   "execution_count": null,
   "id": "145b316a-c391-404d-b681-11dfdc570f11",
   "metadata": {},
   "outputs": [],
   "source": [
    "# environment\n",
    "\n",
    "load_dotenv(override=True)\n",
    "os.environ['OPENAI_API_KEY'] = os.getenv('OPENAI_API_KEY', 'your-key-if-not-using-env')\n",
    "os.environ['HF_TOKEN'] = os.getenv('HF_TOKEN', 'your-key-if-not-using-env')\n",
    "DB = \"products_vectorstore\""
   ]
  },
  {
   "cell_type": "code",
   "execution_count": null,
   "id": "e3e9ada9-1d8f-44b0-8855-62b6f7ed80d7",
   "metadata": {},
   "outputs": [],
   "source": [
    "# Log in to HuggingFace\n",
    "\n",
    "hf_token = os.environ['HF_TOKEN']\n",
    "login(hf_token, add_to_git_credential=True)"
   ]
  },
  {
   "cell_type": "code",
   "execution_count": null,
   "id": "c0e5b039-6ed7-42bf-8f55-ea1b09ea1cf0",
   "metadata": {},
   "outputs": [],
   "source": [
    "# Another import after Logging in to Hugging Face - thank you Trung N.!\n",
    "\n",
    "from items import Item"
   ]
  },
  {
   "cell_type": "markdown",
   "id": "17b14bf2-8f26-4a9a-997a-f5a4906b818a",
   "metadata": {},
   "source": [
    "## Back to the pkl files\n",
    "\n",
    "Much as we enjoyed data curating in week 6, we probably don't want to go through that whole process again!\n",
    "\n",
    "Let's reuse the pkl files we created then. Either copy the files `train.pkl` and `test.pkl` from the Week 6 folder into this Week 8 folder, or you can also download them from here:\n",
    "\n",
    "https://drive.google.com/drive/folders/1f_IZGybvs9o0J5sb3xmtTEQB3BXllzrW?usp=drive_link"
   ]
  },
  {
   "cell_type": "code",
   "execution_count": null,
   "id": "1c792bc6-eba6-4fd9-ba3e-2f6e419d376b",
   "metadata": {},
   "outputs": [],
   "source": [
    "# With train.pkl in this folder, you can run this:\n",
    "\n",
    "with open('../week6/train.pkl', 'rb') as file:\n",
    "    train = pickle.load(file)"
   ]
  },
  {
   "cell_type": "code",
   "execution_count": null,
   "id": "3372e121-125b-42e7-8269-af5050b86776",
   "metadata": {},
   "outputs": [],
   "source": [
    "train[0].prompt"
   ]
  },
  {
   "cell_type": "markdown",
   "id": "ec75ff91-f781-4e93-b24f-0e3333361287",
   "metadata": {},
   "source": [
    "# Now create a Chroma Datastore\n",
    "\n",
    "In Week 5, we created a Chroma datastore with 123 documents representing chunks of objects from our fictional company Insurellm.\n",
    "\n",
    "Now we will create a Chroma datastore with 400,000 products from our training dataset! It's getting real!\n",
    "\n",
    "Note that we won't be using LangChain, but the API is very straightforward and consistent with before.\n",
    "\n",
    "Special note: if Chroma crashes and you're a Windows user, you should try rolling back to an earlier version of the Chroma library with:  \n",
    "`!pip install chromadb==0.5.0`  \n",
    "With many thanks to student Kelly Z. for finding this out and pointing to the GitHub issue [here](https://github.com/chroma-core/chroma/issues/2513). \n",
    "But try first without reverting Chroma."
   ]
  },
  {
   "cell_type": "code",
   "execution_count": null,
   "id": "46048a8b-b238-4ed9-a2b9-840a4ed25c28",
   "metadata": {},
   "outputs": [],
   "source": [
    "client = chromadb.PersistentClient(path=DB)"
   ]
  },
  {
   "cell_type": "code",
   "execution_count": null,
   "id": "938e999a-a35a-4d2b-b252-d7d787b03a4a",
   "metadata": {},
   "outputs": [],
   "source": [
    "# Check if the collection exists and delete it if it does\n",
    "collection_name = \"products\"\n",
    "\n",
    "# For old versions of Chroma, use this line instead of the subsequent one\n",
    "existing_collection_names = [collection.name for collection in client.list_collections()]\n",
    "# existing_collection_names = client.list_collections()\n",
    "\n",
    "if collection_name in existing_collection_names:\n",
    "    client.delete_collection(collection_name)\n",
    "    print(f\"Deleted existing collection: {collection_name}\")\n",
    "\n",
    "collection = client.create_collection(collection_name)\n",
    "print(f\"Created new collection: {collection_name}\")\n"
   ]
  },
  {
   "cell_type": "markdown",
   "id": "36196708-2be4-46c4-a485-eb102c4ae5fb",
   "metadata": {},
   "source": [
    "# Introducing the SentenceTransfomer\n",
    "\n",
    "The all-MiniLM is a very useful model from HuggingFace that maps sentences & paragraphs to a 384 dimensional dense vector space and is ideal for tasks like semantic search.\n",
    "\n",
    "https://huggingface.co/sentence-transformers/all-MiniLM-L6-v2\n",
    "\n",
    "It can run pretty quickly locally.\n",
    "\n",
    "Last time we used OpenAI embeddings to produce vector embeddings. Benefits compared to OpenAI embeddings:\n",
    "1. It's free and fast!\n",
    "3. We can run it locally, so the data never leaves our box - might be useful if you're building a personal RAG\n"
   ]
  },
  {
   "cell_type": "code",
   "execution_count": null,
   "id": "ab343bcc-d738-488c-b44d-91ad04ba3353",
   "metadata": {},
   "outputs": [],
   "source": [
    "from sentence_transformers import SentenceTransformer, util\n",
    "\n",
    "# Load a semantic embedding model\n",
    "model = SentenceTransformer(\"all-MiniLM-L6-v2\")\n",
    "\n",
    "# Words or phrases\n",
    "words = [\"movie\", \"film\"]\n",
    "\n",
    "# Get embeddings\n",
    "embeddings = model.encode(words, convert_to_tensor=True)\n",
    "\n",
    "# Compute cosine similarity\n",
    "similarity = util.pytorch_cos_sim(embeddings[0], embeddings[1]).item()\n",
    "print(f\"Similarity: {similarity:.3f}\")\n"
   ]
  },
  {
   "cell_type": "code",
   "execution_count": null,
   "id": "f92b3feb-9721-4804-a79e-18858c3efc1d",
   "metadata": {},
   "outputs": [],
   "source": [
    "model = SentenceTransformer('sentence-transformers/all-MiniLM-L6-v2')"
   ]
  },
  {
   "cell_type": "code",
   "execution_count": null,
   "id": "c960b65b-d240-4f47-93ed-520c62159270",
   "metadata": {},
   "outputs": [],
   "source": [
    "# Pass in a list of texts, get back a numpy array of vectors\n",
    "\n",
    "vector = model.encode([\"Well hi there\"])[0]\n",
    "vector"
   ]
  },
  {
   "cell_type": "code",
   "execution_count": null,
   "id": "d0219e96-d67c-496a-9c33-7f4b9324dfab",
   "metadata": {},
   "outputs": [],
   "source": [
    "# Quick sidebar - extra to the videos - a function to compare vectors\n",
    "\n",
    "import numpy as np\n",
    "def cosine_similarity(a, b):\n",
    "    return np.dot(a, b) / (np.linalg.norm(a) * np.linalg.norm(b))\n",
    "\n",
    "def how_similar(text1, text2):\n",
    "    vector1, vector2 = model.encode([text1, text2])\n",
    "    similarity = cosine_similarity(vector1, vector2)\n",
    "    print(f\"Similarity between {text1} and {text2} is {similarity*100:.1f}%\")"
   ]
  },
  {
   "cell_type": "code",
   "execution_count": null,
   "id": "e3bd4a62-8307-4e11-8fa3-fec10231d821",
   "metadata": {},
   "outputs": [],
   "source": [
    "def how_similar(word1: str, word2: str) -> float:\n",
    "    \"\"\"\n",
    "    Returns cosine similarity between two words/phrases by encoding them in a single call.\n",
    "    \"\"\"\n",
    "    embeddings = model.encode([word1, word2], convert_to_tensor=True)  # encode once\n",
    "    similarity = util.cos_sim(embeddings[0], embeddings[1]).item()           # compute similarity\n",
    "    print(f\"Similarity between {word1} and {word2} is {similarity*100:.1f}%\")"
   ]
  },
  {
   "cell_type": "code",
   "execution_count": null,
   "id": "bb3f501e-1908-448a-a297-616ad4dd2630",
   "metadata": {
    "scrolled": true
   },
   "outputs": [],
   "source": [
    "# And let's see how adding a few words to the context can change things up!\n",
    "\n",
    "how_similar(\"Java\", \"C++\")\n",
    "how_similar(\"Java\", \"mug\")\n",
    "how_similar(\"Cup of Java\", \"mug\")\n",
    "how_similar(\"Hi there\", \"Hello\")\n",
    "how_similar(\"movie\", \"film\")\n",
    "how_similar(\"good\", \"bad\")"
   ]
  },
  {
   "cell_type": "code",
   "execution_count": null,
   "id": "4f3f336c-c5c3-4840-868d-28d4aa468a97",
   "metadata": {},
   "outputs": [],
   "source": [
    "# OK back to the main story - let's make something we can vectorize\n",
    "\n",
    "def description(item):\n",
    "    text = item.prompt.replace(\"How much does this cost to the nearest dollar?\\n\\n\", \"\")\n",
    "    return text.split(\"\\n\\nPrice is $\")[0]"
   ]
  },
  {
   "cell_type": "code",
   "execution_count": null,
   "id": "c84a3aaf-a94e-4c97-8668-5dc3f3eb16f9",
   "metadata": {},
   "outputs": [],
   "source": [
    "train[0]"
   ]
  },
  {
   "cell_type": "code",
   "execution_count": null,
   "id": "14f3d3a5-eb7a-4615-bc12-1e826892e8dd",
   "metadata": {},
   "outputs": [],
   "source": [
    "description(train[0])"
   ]
  },
  {
   "cell_type": "markdown",
   "id": "f1278535-8bae-4f77-a6af-afffdcae5d8b",
   "metadata": {},
   "source": [
    "## Now we populate our RAG datastore\n",
    "\n",
    "The next cell populates the 400,000 items in Chroma.\n",
    "\n",
    "Feel free to reduce the number of documents if this takes too long! You can change to:  \n",
    "`NUMBER_OF_DOCUMENTS = 20000`  \n",
    "And that's plenty for a perfectly good RAG pipeline.\n",
    "\n",
    "Just note that if you interrupt the below cell while it's running, you might need to clear out the Chroma datastore (by rerunning the earlier cell that deletes the collection), before you run it again. Otherwise it will complain that there are existing documents with the same ID."
   ]
  },
  {
   "cell_type": "code",
   "execution_count": null,
   "id": "5d5917b3-fbae-4f73-b1fa-1e505561c83f",
   "metadata": {},
   "outputs": [],
   "source": [
    "NUMBER_OF_DOCUMENTS = len(train)\n",
    "\n",
    "# Uncomment if you'd rather not wait for the full 400,000\n",
    "# NUMBER_OF_DOCUMENTS = 20000\n",
    "\n",
    "for i in tqdm(range(0, NUMBER_OF_DOCUMENTS, 1000)):\n",
    "    documents = [description(item) for item in train[i: i+1000]]\n",
    "    vectors = model.encode(documents).astype(float).tolist()\n",
    "    metadatas = [{\"category\": item.category, \"price\": item.price} for item in train[i: i+1000]]\n",
    "    ids = [f\"doc_{j}\" for j in range(i, i+len(documents))]\n",
    "    collection.add(\n",
    "        ids=ids,\n",
    "        documents=documents,\n",
    "        embeddings=vectors,\n",
    "        metadatas=metadatas\n",
    "    )"
   ]
  },
  {
   "cell_type": "code",
   "execution_count": null,
   "id": "949d33dd-5a37-4c44-a7f4-a3c320c261fe",
   "metadata": {},
   "outputs": [],
   "source": []
  },
  {
   "cell_type": "code",
   "execution_count": null,
   "id": "bf6f018a-749c-494b-a786-d2924954b3a7",
   "metadata": {},
   "outputs": [],
   "source": []
  },
  {
   "cell_type": "code",
   "execution_count": null,
   "id": "c7b06743-0296-4f76-bd9b-055bd44dd4cb",
   "metadata": {},
   "outputs": [],
   "source": []
  },
  {
   "cell_type": "code",
   "execution_count": null,
   "id": "c4b15bff-ad74-4d94-a83c-e352b6337b9d",
   "metadata": {},
   "outputs": [],
   "source": []
  },
  {
   "cell_type": "code",
   "execution_count": null,
   "id": "65d2a384-c509-486d-a9be-d06a8827cb53",
   "metadata": {},
   "outputs": [],
   "source": []
  },
  {
   "cell_type": "code",
   "execution_count": null,
   "id": "1969d681-c70b-4550-9e67-1dbeea181b7c",
   "metadata": {},
   "outputs": [],
   "source": []
  },
  {
   "cell_type": "code",
   "execution_count": null,
   "id": "8bb7c9f8-3991-4185-89ad-a30ccf195e07",
   "metadata": {},
   "outputs": [],
   "source": []
  },
  {
   "cell_type": "code",
   "execution_count": null,
   "id": "3f8f42cf-870f-41fb-a4b9-24a7c0bc44a6",
   "metadata": {},
   "outputs": [],
   "source": []
  },
  {
   "cell_type": "code",
   "execution_count": null,
   "id": "8a9345ab-33b2-46ab-8e4c-45048060b8d2",
   "metadata": {},
   "outputs": [],
   "source": []
  },
  {
   "cell_type": "code",
   "execution_count": null,
   "id": "09bb10b1-6d29-4934-bc48-be61f68101b5",
   "metadata": {},
   "outputs": [],
   "source": []
  }
 ],
 "metadata": {
  "kernelspec": {
   "display_name": "Python 3 (ipykernel)",
   "language": "python",
   "name": "python3"
  },
  "language_info": {
   "codemirror_mode": {
    "name": "ipython",
    "version": 3
   },
   "file_extension": ".py",
   "mimetype": "text/x-python",
   "name": "python",
   "nbconvert_exporter": "python",
   "pygments_lexer": "ipython3",
   "version": "3.11.13"
  }
 },
 "nbformat": 4,
 "nbformat_minor": 5
}
