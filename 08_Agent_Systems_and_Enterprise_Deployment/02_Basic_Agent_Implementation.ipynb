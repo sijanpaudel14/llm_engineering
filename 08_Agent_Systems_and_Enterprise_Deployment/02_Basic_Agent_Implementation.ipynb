{
 "cells": [
  {
   "cell_type": "markdown",
   "id": "0335dd12-305e-482b-ad32-49ad53783a2a",
   "metadata": {},
   "source": [
    "# The Price is Right\n",
    "\n",
    "Today we build a more complex solution for estimating prices of goods.\n",
    "\n",
    "1. This notebook: create a RAG database with our 400,000 training data\n",
    "2. Day 2.1 notebook: visualize in 2D\n",
    "3. Day 2.2 notebook: visualize in 3D\n",
    "4. Day 2.3 notebook: build and test a RAG pipeline with GPT-4o-mini\n",
    "5. Day 2.4 notebook: (a) bring back our Random Forest pricer (b) Create a Ensemble pricer that allows contributions from all the pricers\n",
    "\n",
    "Phew! That's a lot to get through in one day!\n",
    "\n",
    "## PLEASE NOTE:\n",
    "\n",
    "We already have a very powerful product estimator with our proprietary, fine-tuned LLM. Most people would be very satisfied with that! The main reason we're adding these extra steps is to deepen your expertise with RAG and with Agentic workflows.\n"
   ]
  },
  {
   "cell_type": "code",
   "execution_count": 1,
   "id": "083ff3aa-88dc-468a-98e1-c856a7234961",
   "metadata": {},
   "outputs": [],
   "source": [
    "# imports\n",
    "\n",
    "import os\n",
    "import re\n",
    "import math\n",
    "import json\n",
    "from tqdm import tqdm\n",
    "import random\n",
    "from dotenv import load_dotenv\n",
    "from huggingface_hub import login\n",
    "import numpy as np\n",
    "import pickle\n",
    "from sentence_transformers import SentenceTransformer,util\n",
    "from datasets import load_dataset\n",
    "import chromadb\n",
    "from sklearn.manifold import TSNE\n",
    "import plotly.graph_objects as go"
   ]
  },
  {
   "cell_type": "code",
   "execution_count": 2,
   "id": "145b316a-c391-404d-b681-11dfdc570f11",
   "metadata": {},
   "outputs": [],
   "source": [
    "# environment\n",
    "\n",
    "load_dotenv(override=True)\n",
    "os.environ['OPENAI_API_KEY'] = os.getenv('OPENAI_API_KEY', 'your-key-if-not-using-env')\n",
    "os.environ['HF_TOKEN'] = os.getenv('HF_TOKEN', 'your-key-if-not-using-env')\n",
    "DB = \"products_vectorstore\""
   ]
  },
  {
   "cell_type": "code",
   "execution_count": 3,
   "id": "e3e9ada9-1d8f-44b0-8855-62b6f7ed80d7",
   "metadata": {},
   "outputs": [
    {
     "name": "stderr",
     "output_type": "stream",
     "text": [
      "Note: Environment variable`HF_TOKEN` is set and is the current active token independently from the token you've just configured.\n"
     ]
    }
   ],
   "source": [
    "# Log in to HuggingFace\n",
    "\n",
    "hf_token = os.environ['HF_TOKEN']\n",
    "login(hf_token, add_to_git_credential=True)"
   ]
  },
  {
   "cell_type": "code",
   "execution_count": 4,
   "id": "c0e5b039-6ed7-42bf-8f55-ea1b09ea1cf0",
   "metadata": {},
   "outputs": [],
   "source": [
    "# Another import after Logging in to Hugging Face - thank you Trung N.!\n",
    "\n",
    "from items import Item"
   ]
  },
  {
   "cell_type": "markdown",
   "id": "17b14bf2-8f26-4a9a-997a-f5a4906b818a",
   "metadata": {},
   "source": [
    "## Back to the pkl files\n",
    "\n",
    "Much as we enjoyed data curating in week 6, we probably don't want to go through that whole process again!\n",
    "\n",
    "Let's reuse the pkl files we created then. Either copy the files `train.pkl` and `test.pkl` from the Week 6 folder into this Week 8 folder, or you can also download them from here:\n",
    "\n",
    "https://drive.google.com/drive/folders/1f_IZGybvs9o0J5sb3xmtTEQB3BXllzrW?usp=drive_link"
   ]
  },
  {
   "cell_type": "code",
   "execution_count": 5,
   "id": "1c792bc6-eba6-4fd9-ba3e-2f6e419d376b",
   "metadata": {},
   "outputs": [],
   "source": [
    "# With train.pkl in this folder, you can run this:\n",
    "\n",
    "with open('../week6/train.pkl', 'rb') as file:\n",
    "    train = pickle.load(file)"
   ]
  },
  {
   "cell_type": "code",
   "execution_count": 6,
   "id": "3372e121-125b-42e7-8269-af5050b86776",
   "metadata": {},
   "outputs": [
    {
     "data": {
      "text/plain": [
       "'How much does this cost to the nearest dollar?\\n\\nDelphi FG0166 Fuel Pump Module\\nDelphi brings 80 years of OE Heritage into each Delphi pump, ensuring quality and fitment for each Delphi part. Part is validated, tested and matched to the right vehicle application Delphi brings 80 years of OE Heritage into each Delphi assembly, ensuring quality and fitment for each Delphi part Always be sure to check and clean fuel tank to avoid unnecessary returns Rigorous OE-testing ensures the pump can withstand extreme temperatures Brand Delphi, Fit Type Vehicle Specific Fit, Dimensions LxWxH 19.7 x 7.7 x 5.1 inches, Weight 2.2 Pounds, Auto Part Position Unknown, Operation Mode Mechanical, Manufacturer Delphi, Model FUEL PUMP, Dimensions 19.7\\n\\nPrice is $227.00'"
      ]
     },
     "execution_count": 6,
     "metadata": {},
     "output_type": "execute_result"
    }
   ],
   "source": [
    "train[0].prompt"
   ]
  },
  {
   "cell_type": "markdown",
   "id": "ec75ff91-f781-4e93-b24f-0e3333361287",
   "metadata": {},
   "source": [
    "# Now create a Chroma Datastore\n",
    "\n",
    "In Week 5, we created a Chroma datastore with 123 documents representing chunks of objects from our fictional company Insurellm.\n",
    "\n",
    "Now we will create a Chroma datastore with 400,000 products from our training dataset! It's getting real!\n",
    "\n",
    "Note that we won't be using LangChain, but the API is very straightforward and consistent with before.\n",
    "\n",
    "Special note: if Chroma crashes and you're a Windows user, you should try rolling back to an earlier version of the Chroma library with:  \n",
    "`!pip install chromadb==0.5.0`  \n",
    "With many thanks to student Kelly Z. for finding this out and pointing to the GitHub issue [here](https://github.com/chroma-core/chroma/issues/2513). \n",
    "But try first without reverting Chroma."
   ]
  },
  {
   "cell_type": "code",
   "execution_count": 9,
   "id": "46048a8b-b238-4ed9-a2b9-840a4ed25c28",
   "metadata": {},
   "outputs": [],
   "source": [
    "client = chromadb.PersistentClient(path=DB)"
   ]
  },
  {
   "cell_type": "code",
   "execution_count": 10,
   "id": "938e999a-a35a-4d2b-b252-d7d787b03a4a",
   "metadata": {},
   "outputs": [
    {
     "name": "stdout",
     "output_type": "stream",
     "text": [
      "Created new collection: products\n"
     ]
    }
   ],
   "source": [
    "# Check if the collection exists and delete it if it does\n",
    "collection_name = \"products\"\n",
    "\n",
    "# For old versions of Chroma, use this line instead of the subsequent one\n",
    "existing_collection_names = [collection.name for collection in client.list_collections()]\n",
    "# existing_collection_names = client.list_collections()\n",
    "\n",
    "if collection_name in existing_collection_names:\n",
    "    client.delete_collection(collection_name)\n",
    "    print(f\"Deleted existing collection: {collection_name}\")\n",
    "\n",
    "collection = client.create_collection(collection_name)\n",
    "print(f\"Created new collection: {collection_name}\")\n"
   ]
  },
  {
   "cell_type": "markdown",
   "id": "36196708-2be4-46c4-a485-eb102c4ae5fb",
   "metadata": {},
   "source": [
    "# Introducing the SentenceTransfomer\n",
    "\n",
    "The all-MiniLM is a very useful model from HuggingFace that maps sentences & paragraphs to a 384 dimensional dense vector space and is ideal for tasks like semantic search.\n",
    "\n",
    "https://huggingface.co/sentence-transformers/all-MiniLM-L6-v2\n",
    "\n",
    "It can run pretty quickly locally.\n",
    "\n",
    "Last time we used OpenAI embeddings to produce vector embeddings. Benefits compared to OpenAI embeddings:\n",
    "1. It's free and fast!\n",
    "3. We can run it locally, so the data never leaves our box - might be useful if you're building a personal RAG\n"
   ]
  },
  {
   "cell_type": "code",
   "execution_count": 11,
   "id": "ab343bcc-d738-488c-b44d-91ad04ba3353",
   "metadata": {},
   "outputs": [
    {
     "name": "stdout",
     "output_type": "stream",
     "text": [
      "Similarity: 0.843\n"
     ]
    }
   ],
   "source": [
    "from sentence_transformers import SentenceTransformer, util\n",
    "\n",
    "# Load a semantic embedding model\n",
    "model = SentenceTransformer(\"all-MiniLM-L6-v2\")\n",
    "\n",
    "# Words or phrases\n",
    "words = [\"movie\", \"film\"]\n",
    "\n",
    "# Get embeddings\n",
    "embeddings = model.encode(words, convert_to_tensor=True)\n",
    "\n",
    "# Compute cosine similarity\n",
    "similarity = util.pytorch_cos_sim(embeddings[0], embeddings[1]).item()\n",
    "print(f\"Similarity: {similarity:.3f}\")\n"
   ]
  },
  {
   "cell_type": "code",
   "execution_count": 12,
   "id": "f92b3feb-9721-4804-a79e-18858c3efc1d",
   "metadata": {},
   "outputs": [],
   "source": [
    "model = SentenceTransformer('sentence-transformers/all-MiniLM-L6-v2')"
   ]
  },
  {
   "cell_type": "code",
   "execution_count": 13,
   "id": "c960b65b-d240-4f47-93ed-520c62159270",
   "metadata": {},
   "outputs": [
    {
     "data": {
      "text/plain": [
       "array([-9.46715623e-02,  4.27620038e-02,  5.51620945e-02, -5.10970887e-04,\n",
       "        1.16203465e-02, -6.80130944e-02,  2.76405942e-02,  6.06974810e-02,\n",
       "        2.88530923e-02, -1.74128618e-02, -4.94346134e-02,  2.30992604e-02,\n",
       "       -1.28615070e-02, -4.31402363e-02,  2.17509512e-02,  4.26549204e-02,\n",
       "        5.10500371e-02, -7.79727772e-02, -1.23247325e-01,  3.67455520e-02,\n",
       "        4.54118289e-03,  9.47938561e-02, -5.53098619e-02,  1.70641616e-02,\n",
       "       -2.92872433e-02, -4.47124243e-02,  2.06784680e-02,  6.39320016e-02,\n",
       "        2.27427650e-02,  4.87789586e-02, -2.33499729e-03,  4.72859032e-02,\n",
       "       -2.86258832e-02,  2.30624732e-02,  2.45129801e-02,  3.95680964e-02,\n",
       "       -4.33177054e-02, -1.02316722e-01,  2.79877591e-03,  2.39304602e-02,\n",
       "        1.61556546e-02, -8.99079163e-03,  2.07256339e-02,  6.40123039e-02,\n",
       "        6.89179301e-02, -6.98361248e-02,  2.89759203e-03, -8.10989812e-02,\n",
       "        1.71123017e-02,  2.50655063e-03, -1.06529035e-01, -4.87733707e-02,\n",
       "       -1.67762451e-02, -2.28663273e-02,  1.14816591e-01,  4.87413369e-02,\n",
       "       -1.64961554e-02, -6.90833032e-02,  1.13612048e-01, -7.18485638e-02,\n",
       "       -9.01571438e-02,  3.89896331e-06, -8.66768658e-02, -4.05917093e-02,\n",
       "        3.71317603e-02, -1.77617986e-02, -5.57463728e-02, -4.57097515e-02,\n",
       "       -5.43141030e-02, -4.00612317e-02, -4.60227840e-02,  2.82194261e-02,\n",
       "       -2.33606063e-02,  1.44407200e-02, -1.52777238e-02, -4.34328839e-02,\n",
       "        6.81274682e-02,  8.21894854e-02,  7.83887599e-03, -2.85972785e-02,\n",
       "        6.14309311e-02, -4.92685251e-02,  3.27058136e-03, -2.72681862e-02,\n",
       "       -4.59346585e-02, -2.60167606e-02,  5.70650510e-02, -5.86469250e-04,\n",
       "       -4.37076576e-02, -2.47862219e-04, -8.73550922e-02,  3.48776057e-02,\n",
       "        1.39327794e-02, -1.60043724e-02,  2.86958516e-02, -9.48596448e-02,\n",
       "        9.40612555e-02,  5.92685901e-02, -8.65014493e-02,  1.45011470e-01,\n",
       "        2.35388111e-02,  3.43325064e-02,  2.51468591e-04,  7.15540424e-02,\n",
       "       -3.12183127e-02,  3.86665389e-02, -2.47744657e-02,  6.52673990e-02,\n",
       "       -8.28817338e-02, -2.80247051e-02,  9.34543740e-03, -7.85541907e-03,\n",
       "        5.30727953e-02,  2.96895374e-02,  3.27329673e-02,  4.94736955e-02,\n",
       "        2.52208877e-02,  4.67068069e-02,  5.03403060e-02, -7.23745003e-02,\n",
       "        2.54434999e-02, -3.67217101e-02,  1.27570089e-02,  1.46064265e-02,\n",
       "        2.11492497e-02, -5.56908287e-02, -9.18516796e-03, -5.63394422e-34,\n",
       "        9.58769843e-02,  5.94578162e-02,  5.11445217e-02,  3.36359739e-02,\n",
       "       -1.34414071e-02, -2.77203117e-02, -3.48436795e-02,  1.80351622e-02,\n",
       "       -2.53211260e-02,  6.73591113e-03,  5.47840297e-02, -3.60574126e-02,\n",
       "       -5.20870090e-02, -2.90345270e-02,  4.38961061e-03,  6.50023371e-02,\n",
       "        3.07485294e-02,  2.00220402e-02,  1.73047674e-03,  2.96721351e-03,\n",
       "        3.40953609e-03, -6.78144991e-02,  3.41304690e-02,  8.37871525e-03,\n",
       "        5.39904237e-02,  2.70389728e-02,  7.84119889e-02, -1.30136251e-01,\n",
       "        4.84649353e-02,  5.14178798e-02, -7.94680510e-03,  5.57879172e-03,\n",
       "       -5.31025156e-02,  3.81298885e-02, -3.05513199e-02, -7.69778490e-02,\n",
       "        1.20530901e-02, -4.08993103e-02, -8.69358629e-02,  6.38056099e-02,\n",
       "        1.68675147e-02,  1.68734393e-03,  6.28895238e-02, -1.67711545e-02,\n",
       "        2.15586331e-02,  7.10036547e-04,  2.81032058e-03, -8.89791548e-03,\n",
       "       -1.80886928e-02, -2.16217320e-02, -5.59150837e-02,  1.78774931e-02,\n",
       "       -9.27093476e-02,  7.27912039e-03, -1.27753571e-01, -4.86937650e-02,\n",
       "        1.45871593e-02, -1.62750892e-02,  6.75622672e-02,  3.87702733e-02,\n",
       "        7.23295137e-02,  9.14991647e-02, -9.65292677e-02,  4.84790839e-02,\n",
       "       -1.06274098e-01, -1.05042020e-02,  8.90350267e-02, -8.07525590e-02,\n",
       "        7.87081420e-02, -2.04917286e-02, -5.55080026e-02, -3.31533067e-02,\n",
       "       -2.14429237e-02,  4.94699329e-02, -7.05119073e-02,  6.63998723e-02,\n",
       "        7.39671364e-02, -2.70110951e-03,  1.62262637e-02, -3.98228914e-02,\n",
       "        5.94092719e-02, -7.14371027e-03, -3.33479457e-02,  2.30418500e-02,\n",
       "        1.87186114e-02, -6.15724921e-02, -8.55395338e-04, -1.05786718e-01,\n",
       "       -8.43619034e-02, -3.92992906e-02, -3.16447467e-02,  6.60644993e-02,\n",
       "        9.41816121e-02, -8.35983232e-02,  9.50873457e-03,  1.25501218e-34,\n",
       "        6.38198704e-02,  2.11372226e-02, -1.65899768e-02,  1.88641697e-02,\n",
       "       -5.57018742e-02,  1.82807620e-03, -1.37588540e-02,  8.16278905e-02,\n",
       "       -9.13296789e-02,  7.06855655e-02,  6.79991990e-02, -5.44536524e-02,\n",
       "        3.80394869e-02,  3.80502432e-03,  1.03689790e-01,  7.32709887e-04,\n",
       "        2.95661632e-02,  4.19424884e-02, -1.20444328e-01,  1.24932574e-02,\n",
       "       -5.53506948e-02,  1.75228622e-02, -2.28164401e-02, -5.79298325e-02,\n",
       "        9.42931697e-03, -5.42279053e-03, -3.94953089e-03,  2.82348376e-02,\n",
       "       -1.28066972e-01, -1.31303901e-02,  7.42955953e-02, -1.74529962e-02,\n",
       "       -9.72758979e-02,  8.25622026e-03,  2.06901375e-02, -5.29771484e-03,\n",
       "       -1.37696099e-02, -3.50974463e-02,  1.74978357e-02, -1.76233817e-02,\n",
       "       -6.50826097e-02, -3.84675711e-02, -8.76396075e-02,  3.21291126e-02,\n",
       "        2.55016820e-03, -2.09378339e-02,  5.55309989e-02,  2.57095452e-02,\n",
       "       -2.94735171e-02,  1.25048216e-02, -6.83466345e-02, -8.00624043e-02,\n",
       "       -1.46906283e-02,  1.03744846e-02, -8.51863176e-02, -1.10538639e-02,\n",
       "        2.14596149e-02,  4.08609137e-02,  3.31647173e-02, -2.76757330e-02,\n",
       "       -2.01878157e-02,  8.98881722e-03,  3.92048210e-02,  1.15103349e-01,\n",
       "        5.50441146e-02,  2.72755101e-02, -1.09526731e-01, -1.72622856e-02,\n",
       "        1.33438315e-02, -1.73702016e-02, -5.04369894e-03, -2.00292412e-02,\n",
       "        1.16672404e-01, -1.84322242e-02,  3.70627493e-02,  1.60885975e-02,\n",
       "        3.48829776e-02,  5.50574400e-02, -6.60803868e-03,  7.06828907e-02,\n",
       "        4.07849066e-02, -1.43314088e-02, -2.85439403e-03,  2.74251681e-02,\n",
       "       -4.26769070e-02,  1.26583287e-02,  3.34343649e-02,  1.62644722e-02,\n",
       "        1.19262831e-02, -2.92118900e-02,  2.73977574e-02,  3.44305076e-02,\n",
       "        2.52832547e-02,  3.07514686e-02,  3.22557352e-02, -1.74628543e-08,\n",
       "       -1.52691565e-02,  5.37678134e-03,  1.41246498e-01,  5.08366153e-02,\n",
       "        5.32257184e-02,  9.67938527e-02,  4.33674343e-02, -6.48315670e-03,\n",
       "        1.58604048e-02,  4.05631587e-02,  6.94984421e-02,  6.04905263e-02,\n",
       "       -6.26188815e-02, -3.96144092e-02,  1.10648803e-01,  1.67736057e-02,\n",
       "       -7.68694235e-03,  2.59616189e-02, -5.28792776e-02, -2.22319476e-02,\n",
       "        1.74595024e-02,  4.75339778e-02,  3.27675417e-02, -4.59684208e-02,\n",
       "        2.01770104e-02, -1.60876103e-02, -1.58614069e-02, -1.66658610e-02,\n",
       "       -3.05246636e-02, -3.87906581e-02, -1.27653833e-02,  6.57611042e-02,\n",
       "       -2.22502891e-02, -9.44988802e-03,  2.32079756e-02,  2.66038775e-02,\n",
       "        2.14204118e-02, -7.54576782e-03,  8.84752572e-02, -9.43514705e-02,\n",
       "       -5.74870966e-02, -7.77098387e-02,  1.95791782e-03, -1.50347576e-02,\n",
       "       -8.08493420e-03,  1.88217238e-02,  8.42519011e-03, -3.78591605e-02,\n",
       "        1.24534331e-02, -7.94995204e-02, -2.15789918e-02,  1.20277209e-02,\n",
       "        1.74871013e-02,  8.74479413e-02,  6.64091632e-02,  3.13737243e-02,\n",
       "       -1.00629302e-02,  2.07700357e-02, -5.20163476e-02, -8.91339220e-03,\n",
       "        1.48542330e-01, -2.51258141e-03,  9.93156657e-02,  2.34928932e-02],\n",
       "      dtype=float32)"
      ]
     },
     "execution_count": 13,
     "metadata": {},
     "output_type": "execute_result"
    }
   ],
   "source": [
    "# Pass in a list of texts, get back a numpy array of vectors\n",
    "\n",
    "vector = model.encode([\"Well hi there\"])[0]\n",
    "vector"
   ]
  },
  {
   "cell_type": "code",
   "execution_count": 14,
   "id": "d0219e96-d67c-496a-9c33-7f4b9324dfab",
   "metadata": {},
   "outputs": [],
   "source": [
    "# Quick sidebar - extra to the videos - a function to compare vectors\n",
    "\n",
    "import numpy as np\n",
    "def cosine_similarity(a, b):\n",
    "    return np.dot(a, b) / (np.linalg.norm(a) * np.linalg.norm(b))\n",
    "\n",
    "def how_similar(text1, text2):\n",
    "    vector1, vector2 = model.encode([text1, text2])\n",
    "    similarity = cosine_similarity(vector1, vector2)\n",
    "    print(f\"Similarity between {text1} and {text2} is {similarity*100:.1f}%\")"
   ]
  },
  {
   "cell_type": "code",
   "execution_count": 15,
   "id": "e3bd4a62-8307-4e11-8fa3-fec10231d821",
   "metadata": {},
   "outputs": [],
   "source": [
    "def how_similar(word1: str, word2: str) -> float:\n",
    "    \"\"\"\n",
    "    Returns cosine similarity between two words/phrases by encoding them in a single call.\n",
    "    \"\"\"\n",
    "    embeddings = model.encode([word1, word2], convert_to_tensor=True)  # encode once\n",
    "    similarity = util.cos_sim(embeddings[0], embeddings[1]).item()           # compute similarity\n",
    "    print(f\"Similarity between {word1} and {word2} is {similarity*100:.1f}%\")"
   ]
  },
  {
   "cell_type": "code",
   "execution_count": 16,
   "id": "bb3f501e-1908-448a-a297-616ad4dd2630",
   "metadata": {
    "scrolled": true
   },
   "outputs": [
    {
     "name": "stdout",
     "output_type": "stream",
     "text": [
      "Similarity between Java and C++ is 50.7%\n",
      "Similarity between Java and mug is 25.8%\n",
      "Similarity between Cup of Java and mug is 49.3%\n",
      "Similarity between Hi there and Hello is 63.2%\n",
      "Similarity between movie and film is 84.3%\n",
      "Similarity between good and bad is 58.7%\n"
     ]
    }
   ],
   "source": [
    "# And let's see how adding a few words to the context can change things up!\n",
    "\n",
    "how_similar(\"Java\", \"C++\")\n",
    "how_similar(\"Java\", \"mug\")\n",
    "how_similar(\"Cup of Java\", \"mug\")\n",
    "how_similar(\"Hi there\", \"Hello\")\n",
    "how_similar(\"movie\", \"film\")\n",
    "how_similar(\"good\", \"bad\")"
   ]
  },
  {
   "cell_type": "code",
   "execution_count": 17,
   "id": "4f3f336c-c5c3-4840-868d-28d4aa468a97",
   "metadata": {},
   "outputs": [],
   "source": [
    "# OK back to the main story - let's make something we can vectorize\n",
    "\n",
    "def description(item):\n",
    "    text = item.prompt.replace(\"How much does this cost to the nearest dollar?\\n\\n\", \"\")\n",
    "    return text.split(\"\\n\\nPrice is $\")[0]"
   ]
  },
  {
   "cell_type": "code",
   "execution_count": 18,
   "id": "c84a3aaf-a94e-4c97-8668-5dc3f3eb16f9",
   "metadata": {},
   "outputs": [
    {
     "data": {
      "text/plain": [
       "<Delphi FG0166 Fuel Pump Module = $226.95>"
      ]
     },
     "execution_count": 18,
     "metadata": {},
     "output_type": "execute_result"
    }
   ],
   "source": [
    "train[0]"
   ]
  },
  {
   "cell_type": "code",
   "execution_count": 19,
   "id": "14f3d3a5-eb7a-4615-bc12-1e826892e8dd",
   "metadata": {},
   "outputs": [
    {
     "data": {
      "text/plain": [
       "'Delphi FG0166 Fuel Pump Module\\nDelphi brings 80 years of OE Heritage into each Delphi pump, ensuring quality and fitment for each Delphi part. Part is validated, tested and matched to the right vehicle application Delphi brings 80 years of OE Heritage into each Delphi assembly, ensuring quality and fitment for each Delphi part Always be sure to check and clean fuel tank to avoid unnecessary returns Rigorous OE-testing ensures the pump can withstand extreme temperatures Brand Delphi, Fit Type Vehicle Specific Fit, Dimensions LxWxH 19.7 x 7.7 x 5.1 inches, Weight 2.2 Pounds, Auto Part Position Unknown, Operation Mode Mechanical, Manufacturer Delphi, Model FUEL PUMP, Dimensions 19.7'"
      ]
     },
     "execution_count": 19,
     "metadata": {},
     "output_type": "execute_result"
    }
   ],
   "source": [
    "description(train[0])"
   ]
  },
  {
   "cell_type": "markdown",
   "id": "f1278535-8bae-4f77-a6af-afffdcae5d8b",
   "metadata": {},
   "source": [
    "## Now we populate our RAG datastore\n",
    "\n",
    "The next cell populates the 400,000 items in Chroma.\n",
    "\n",
    "Feel free to reduce the number of documents if this takes too long! You can change to:  \n",
    "`NUMBER_OF_DOCUMENTS = 20000`  \n",
    "And that's plenty for a perfectly good RAG pipeline.\n",
    "\n",
    "Just note that if you interrupt the below cell while it's running, you might need to clear out the Chroma datastore (by rerunning the earlier cell that deletes the collection), before you run it again. Otherwise it will complain that there are existing documents with the same ID."
   ]
  },
  {
   "cell_type": "code",
   "execution_count": 20,
   "id": "5d5917b3-fbae-4f73-b1fa-1e505561c83f",
   "metadata": {},
   "outputs": [
    {
     "name": "stderr",
     "output_type": "stream",
     "text": [
      "100%|█████████████████████████████████████████████████████████████████████████████████████████████| 400/400 [2:19:47<00:00, 20.97s/it]\n"
     ]
    }
   ],
   "source": [
    "NUMBER_OF_DOCUMENTS = len(train)\n",
    "\n",
    "# Uncomment if you'd rather not wait for the full 400,000\n",
    "# NUMBER_OF_DOCUMENTS = 20000\n",
    "\n",
    "for i in tqdm(range(0, NUMBER_OF_DOCUMENTS, 1000)):\n",
    "    documents = [description(item) for item in train[i: i+1000]]\n",
    "    vectors = model.encode(documents).astype(float).tolist()\n",
    "    metadatas = [{\"category\": item.category, \"price\": item.price} for item in train[i: i+1000]]\n",
    "    ids = [f\"doc_{j}\" for j in range(i, i+len(documents))]\n",
    "    collection.add(\n",
    "        ids=ids,\n",
    "        documents=documents,\n",
    "        embeddings=vectors,\n",
    "        metadatas=metadatas\n",
    "    )"
   ]
  },
  {
   "cell_type": "code",
   "execution_count": null,
   "id": "949d33dd-5a37-4c44-a7f4-a3c320c261fe",
   "metadata": {},
   "outputs": [],
   "source": []
  },
  {
   "cell_type": "code",
   "execution_count": null,
   "id": "bf6f018a-749c-494b-a786-d2924954b3a7",
   "metadata": {},
   "outputs": [],
   "source": []
  },
  {
   "cell_type": "code",
   "execution_count": null,
   "id": "c7b06743-0296-4f76-bd9b-055bd44dd4cb",
   "metadata": {},
   "outputs": [],
   "source": []
  },
  {
   "cell_type": "code",
   "execution_count": null,
   "id": "c4b15bff-ad74-4d94-a83c-e352b6337b9d",
   "metadata": {},
   "outputs": [],
   "source": []
  },
  {
   "cell_type": "code",
   "execution_count": null,
   "id": "65d2a384-c509-486d-a9be-d06a8827cb53",
   "metadata": {},
   "outputs": [],
   "source": []
  },
  {
   "cell_type": "code",
   "execution_count": null,
   "id": "1969d681-c70b-4550-9e67-1dbeea181b7c",
   "metadata": {},
   "outputs": [],
   "source": []
  },
  {
   "cell_type": "code",
   "execution_count": null,
   "id": "8bb7c9f8-3991-4185-89ad-a30ccf195e07",
   "metadata": {},
   "outputs": [],
   "source": []
  },
  {
   "cell_type": "code",
   "execution_count": null,
   "id": "3f8f42cf-870f-41fb-a4b9-24a7c0bc44a6",
   "metadata": {},
   "outputs": [],
   "source": []
  },
  {
   "cell_type": "code",
   "execution_count": null,
   "id": "8a9345ab-33b2-46ab-8e4c-45048060b8d2",
   "metadata": {},
   "outputs": [],
   "source": []
  },
  {
   "cell_type": "code",
   "execution_count": null,
   "id": "09bb10b1-6d29-4934-bc48-be61f68101b5",
   "metadata": {},
   "outputs": [],
   "source": []
  }
 ],
 "metadata": {
  "kernelspec": {
   "display_name": "Python 3 (ipykernel)",
   "language": "python",
   "name": "python3"
  },
  "language_info": {
   "codemirror_mode": {
    "name": "ipython",
    "version": 3
   },
   "file_extension": ".py",
   "mimetype": "text/x-python",
   "name": "python",
   "nbconvert_exporter": "python",
   "pygments_lexer": "ipython3",
   "version": "3.11.13"
  }
 },
 "nbformat": 4,
 "nbformat_minor": 5
}
