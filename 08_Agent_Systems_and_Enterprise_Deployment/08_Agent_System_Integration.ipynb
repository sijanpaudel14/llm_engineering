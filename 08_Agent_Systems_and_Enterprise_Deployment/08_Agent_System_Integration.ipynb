{
 "cells": [
  {
   "cell_type": "markdown",
   "id": "0df0d850-49eb-4a0b-a27a-146969db710d",
   "metadata": {},
   "source": [
    "# The Price is Right\n",
    "\n",
    "Today we'll build another piece of the puzzle: a ScanningAgent that looks for promising deals by subscribing to RSS feeds."
   ]
  },
  {
   "cell_type": "code",
   "execution_count": null,
   "id": "be7c002d-4b9e-4667-9b06-8132f94f11e0",
   "metadata": {},
   "outputs": [],
   "source": [
    "import sys\n",
    "import os\n",
    "# Add parent folder of current working directory\n",
    "sys.path.append(os.path.abspath(os.path.join(os.getcwd(), '..')))\n",
    "# Import module from parent folder"
   ]
  },
  {
   "cell_type": "code",
   "execution_count": null,
   "id": "d3763a79-8a5a-4300-8de4-93e85475af10",
   "metadata": {},
   "outputs": [],
   "source": [
    "# imports\n",
    "\n",
    "import os\n",
    "import json\n",
    "from dotenv import load_dotenv\n",
    "from openai import OpenAI\n",
    "from agents.deals import ScrapedDeal, DealSelection"
   ]
  },
  {
   "cell_type": "code",
   "execution_count": null,
   "id": "ef00b972-d453-4c52-8280-6f9c63f496d0",
   "metadata": {},
   "outputs": [],
   "source": [
    "from LLMHandler import LLMHandler"
   ]
  },
  {
   "cell_type": "code",
   "execution_count": null,
   "id": "c6469e32-16c3-4443-9475-ade710ef6933",
   "metadata": {},
   "outputs": [],
   "source": [
    "# Initialize and constants\n",
    "\n",
    "load_dotenv(override=True)\n",
    "os.environ['OPENAI_API_KEY'] = os.getenv('OPENAI_API_KEY', 'your-key-if-not-using-env')\n",
    "MODEL = 'gpt-4o-mini'\n",
    "openai = OpenAI()\n",
    "os.environ['GOOGLE_API_KEY'] = os.getenv(\"GOOGLE_API_KEY_1\")"
   ]
  },
  {
   "cell_type": "code",
   "execution_count": null,
   "id": "afece9db-8cd4-46be-ac57-0b472e84da7d",
   "metadata": {},
   "outputs": [],
   "source": [
    "deals = ScrapedDeal.fetch(show_progress=True)"
   ]
  },
  {
   "cell_type": "code",
   "execution_count": null,
   "id": "8cd15c4d-eb44-4601-bf0c-f945c1d8e3ec",
   "metadata": {},
   "outputs": [],
   "source": [
    "len(deals)"
   ]
  },
  {
   "cell_type": "code",
   "execution_count": null,
   "id": "4259f30a-6455-49ed-8863-2f9ddd4776cb",
   "metadata": {},
   "outputs": [],
   "source": [
    "print(deals[44].describe())"
   ]
  },
  {
   "cell_type": "code",
   "execution_count": null,
   "id": "8100e5ac-38f5-40c1-a712-08ae12c85038",
   "metadata": {},
   "outputs": [],
   "source": [
    "system_message = \"\"\"You identify and summarize the 5 most detailed deals from a list, by selecting deals that have the most detailed, high quality description and the most clear price.\n",
    "Respond strictly in JSON with no explanation, using this format. You should provide the price as a number derived from the description. If the price of a deal isn't clear, do not include that deal in your response.\n",
    "Most important is that you respond with the 5 deals that have the most detailed product description with price. It's not important to mention the terms of the deal; most important is a thorough description of the product.\n",
    "Be careful with products that are described as \"$XXX off\" or \"reduced by $XXX\" - this isn't the actual price of the product. Only respond with products when you are highly confident about the price.\n",
    "\n",
    "{{\"deals\": [\n",
    "    {{\n",
    "        \"product_description\": \"Your clearly expressed summary of the product in 4-5 sentences. Details of the item are much more important than why it's a good deal. Avoid mentioning discounts and coupons; focus on the item itself. There should be a paragpraph of text for each item you choose.\",\n",
    "        \"price\": 99.99,\n",
    "        \"url\": \"the url as provided\"\n",
    "    }},\n",
    "    ...\n",
    "]}}\"\"\""
   ]
  },
  {
   "cell_type": "code",
   "execution_count": null,
   "id": "75d98bfb-f85a-46ee-91ec-5d7ccb9e303d",
   "metadata": {},
   "outputs": [],
   "source": [
    "system_message = \"\"\"You are a highly analytical AI that extracts the 5 best deals from a list. Your most critical task is to distinguish between a final price and a discount amount.\n",
    "\n",
    "You will select deals based on two criteria:\n",
    "1.  A detailed, high-quality product description.\n",
    "2.  A clear, unambiguous, and final price.\n",
    "\n",
    "CRUCIAL RULE ON PRICING: The price you extract MUST be the final, total cost of the item. It is never a discount amount.\n",
    "-   If a deal mentions a price using words like \"$XXX off\", \"save $XXX\", \"reduced by $XXX\", or \"a $XXX discount\", you MUST IGNORE AND DISCARD that deal completely.\n",
    "-   You must look for explicit pricing clues like \"Price:\", \"Costs:\", \"For:\", or a standalone number that clearly represents the total sale price.\n",
    "-   If you have ANY doubt about whether a number is a final price or a discount, DO NOT include the deal. It is better to return fewer than 5 deals than to include one with an incorrect price.\n",
    "\n",
    "For the 5 deals you select, respond strictly in JSON with no explanation. The `product_description` should be a summary of the item itself, not the deal's terms.\n",
    "\n",
    "{{\"deals\": [\n",
    "    {{\n",
    "        \"product_description\": \"Your clearly expressed summary of the product in 4-5 sentences. Details of the item are much more important than why it's a good deal. Avoid mentioning discounts and coupons; focus on the item itself. There should be a paragraph of text for each item you choose.\",\n",
    "        \"price\": 99.99,\n",
    "        \"url\": \"the url as provided\"\n",
    "    }},\n",
    "    ...\n",
    "]}}\"\"\""
   ]
  },
  {
   "cell_type": "code",
   "execution_count": null,
   "id": "f4bca170-af71-40c9-9597-1d72980c74d8",
   "metadata": {},
   "outputs": [],
   "source": [
    "user_prompt = \"\"\"Respond with the most promising 5 deals from this list, selecting those which have the most detailed, high quality product description and a clear price.\n",
    "Respond strictly in JSON, and only JSON. You should rephrase the description to be a summary of the product itself, not the terms of the deal.\n",
    "Remember to respond with a paragraph of text in the product_description field for each of the 5 items that you select.\n",
    "Be careful with products that are described as \"$XXX off\" or \"reduced by $XXX\" - this isn't the actual price of the product. Only respond with products when you are highly confident about the price. \n",
    "\n",
    "Deals:\n",
    "\n",
    "\"\"\"\n",
    "user_prompt += '\\n\\n'.join([deal.describe() for deal in deals])"
   ]
  },
  {
   "cell_type": "code",
   "execution_count": null,
   "id": "e4306f11-1927-4dfd-ba80-1336eb401310",
   "metadata": {},
   "outputs": [],
   "source": [
    "deals"
   ]
  },
  {
   "cell_type": "code",
   "execution_count": null,
   "id": "020947a6-561b-417b-98a0-a085e31d2ce3",
   "metadata": {},
   "outputs": [],
   "source": [
    "print(user_prompt[:2000])"
   ]
  },
  {
   "cell_type": "code",
   "execution_count": null,
   "id": "c31e5a7c-755b-4f5e-9ee6-b114e31fe75a",
   "metadata": {},
   "outputs": [],
   "source": [
    "handler = LLMHandler(system_message=system_message)\n",
    "handler.TEXT_MODEL =\"gemini-2.5-pro\""
   ]
  },
  {
   "cell_type": "code",
   "execution_count": null,
   "id": "5b75ed19-4c67-40dd-921a-8e0e391a9223",
   "metadata": {},
   "outputs": [],
   "source": [
    "from key_utils import get_next_key"
   ]
  },
  {
   "cell_type": "code",
   "execution_count": null,
   "id": "b60a8654-408d-4b58-9014-4d3f1b9d9908",
   "metadata": {
    "scrolled": true
   },
   "outputs": [],
   "source": [
    "\n",
    "from langchain_google_genai import ChatGoogleGenerativeAI\n",
    "from langchain_core.prompts import ChatPromptTemplate\n",
    "from langchain_core.output_parsers import PydanticOutputParser\n",
    "\n",
    "# 2. Setup parser\n",
    "parser = PydanticOutputParser(pydantic_object=DealSelection)\n",
    "api_key,_ = get_next_key()\n",
    "# 3. Prompt\n",
    "# The placeholder {user_input} is defined here\n",
    "user_prompt_template = \"{user_input}\"\n",
    "# The template is created from your messages\n",
    "prompt = ChatPromptTemplate([\n",
    "    (\"system\", system_message),\n",
    "    (\"user\", user_prompt_template)\n",
    "])\n",
    "\n",
    "# 4. Model (ensure API key is configured)\n",
    "# For example: from google.colab import userdata; api_key = userdata.get('GOOGLE_API_KEY')\n",
    "llm = ChatGoogleGenerativeAI(model=\"gemini-2.5-pro\", temperature=0, api_key=api_key)\n",
    "\n",
    "# 5. Chain\n",
    "chain = prompt | llm | parser\n",
    "\n",
    "# 6. Call function\n",
    "def get_recommendations(user_input: str):\n",
    "    # This invoke call now works because the template only expects one variable: \"user_input\"\n",
    "    return chain.invoke({\"user_input\": user_input})\n",
    "\n",
    "\n"
   ]
  },
  {
   "cell_type": "code",
   "execution_count": null,
   "id": "05dff2ac-3393-46a8-9f6f-680cc20cfc32",
   "metadata": {},
   "outputs": [],
   "source": [
    "system_message"
   ]
  },
  {
   "cell_type": "code",
   "execution_count": null,
   "id": "f0d4a945-0fbe-4f27-8f4b-13315c8c7852",
   "metadata": {},
   "outputs": [],
   "source": [
    "# Example use\n",
    "\n",
    "result = get_recommendations(user_prompt)\n",
    "\n",
    "\n"
   ]
  },
  {
   "cell_type": "code",
   "execution_count": null,
   "id": "7de46f74-868c-4127-8a68-cf2da7d600bb",
   "metadata": {},
   "outputs": [],
   "source": [
    "def get_recommendations():\n",
    "    completion = openai.beta.chat.completions.parse(\n",
    "        model=\"gpt-4o-mini\",\n",
    "        messages=[\n",
    "            {\"role\": \"system\", \"content\": system_prompt},\n",
    "            {\"role\": \"user\", \"content\": user_prompt}\n",
    "      ],\n",
    "        response_format=DealSelection\n",
    "    )\n",
    "    result = completion.choices[0].message.parsed\n",
    "    return result"
   ]
  },
  {
   "cell_type": "code",
   "execution_count": null,
   "id": "d50c95d2-9fc0-4fbd-b407-64e180aef9c8",
   "metadata": {},
   "outputs": [],
   "source": [
    "result"
   ]
  },
  {
   "cell_type": "code",
   "execution_count": null,
   "id": "4c06270d-8c17-4d5a-9cfe-b6cefe788d5e",
   "metadata": {},
   "outputs": [],
   "source": [
    "result = get_recommendations()"
   ]
  },
  {
   "cell_type": "code",
   "execution_count": null,
   "id": "84e62845-3338-441a-8161-c70097af4773",
   "metadata": {},
   "outputs": [],
   "source": [
    "result.deals"
   ]
  },
  {
   "cell_type": "code",
   "execution_count": null,
   "id": "9074ee09-ce1a-4ac7-bd4d-a003114664f1",
   "metadata": {},
   "outputs": [],
   "source": [
    "result.deals[1].price"
   ]
  },
  {
   "cell_type": "code",
   "execution_count": null,
   "id": "e5554a0a-ae40-4684-ad3e-faa3d22e030c",
   "metadata": {},
   "outputs": [],
   "source": [
    "# Suppose `deals` is your list of Deal objects\n",
    "deals_dict_list = [\n",
    "    {\n",
    "        \"product_description\": deal.product_description,\n",
    "        \"price\": deal.price,\n",
    "        \"url\": deal.url\n",
    "    }\n",
    "    for deal in result.deals\n",
    "]"
   ]
  },
  {
   "cell_type": "code",
   "execution_count": null,
   "id": "42df2896-436c-4f1c-a947-3a6bda7090e3",
   "metadata": {},
   "outputs": [],
   "source": [
    "deals_dict_list"
   ]
  },
  {
   "cell_type": "code",
   "execution_count": null,
   "id": "8bdc57fb-7497-47af-a643-6ba5a21cc17e",
   "metadata": {},
   "outputs": [],
   "source": [
    "from agents.scanner_agent_langchain import ScannerAgent"
   ]
  },
  {
   "cell_type": "code",
   "execution_count": null,
   "id": "132278bc-217a-43a6-b6c4-724140c6a225",
   "metadata": {},
   "outputs": [],
   "source": [
    "agent = ScannerAgent()\n",
    "result = agent.scan()"
   ]
  },
  {
   "cell_type": "code",
   "execution_count": null,
   "id": "2e1d013a-c930-4dad-901b-41433379e14b",
   "metadata": {},
   "outputs": [],
   "source": [
    "result"
   ]
  },
  {
   "cell_type": "code",
   "execution_count": null,
   "id": "5ee2e837-1f1d-42d4-8bc4-51cccc343006",
   "metadata": {},
   "outputs": [],
   "source": []
  }
 ],
 "metadata": {
  "kernelspec": {
   "display_name": "Python 3 (ipykernel)",
   "language": "python",
   "name": "python3"
  },
  "language_info": {
   "codemirror_mode": {
    "name": "ipython",
    "version": 3
   },
   "file_extension": ".py",
   "mimetype": "text/x-python",
   "name": "python",
   "nbconvert_exporter": "python",
   "pygments_lexer": "ipython3",
   "version": "3.11.13"
  }
 },
 "nbformat": 4,
 "nbformat_minor": 5
}
