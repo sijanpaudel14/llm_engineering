{
 "cells": [
  {
   "cell_type": "markdown",
   "id": "fe12c203-e6a6-452c-a655-afb8a03a4ff5",
   "metadata": {},
   "source": [
    "# End of week 1 exercise\n",
    "\n",
    "To demonstrate your familiarity with OpenAI API, and also Ollama, build a tool that takes a technical question,  \n",
    "and responds with an explanation. This is a tool that you will be able to use yourself during the course!"
   ]
  },
  {
   "cell_type": "code",
   "execution_count": 1,
   "id": "c1070317-3ed9-4659-abe3-828943230e03",
   "metadata": {},
   "outputs": [],
   "source": [
    "# imports\n",
    "from langchain_google_genai import ChatGoogleGenerativeAI\n",
    "from IPython.display import Markdown,display\n",
    "import os\n",
    "from dotenv import load_dotenv"
   ]
  },
  {
   "cell_type": "code",
   "execution_count": 3,
   "id": "4a456906-915a-4bfd-bb9d-57e505c5093f",
   "metadata": {},
   "outputs": [],
   "source": [
    "# constants\n",
    "MODEL_GEMINI ='gemini-2.0-flash'\n",
    "MODEL_GPT = 'gpt-4o-mini'\n",
    "MODEL_LLAMA = 'llama3.2'"
   ]
  },
  {
   "cell_type": "code",
   "execution_count": 4,
   "id": "a8d7923c-5f28-4c30-8556-342d7c8497c1",
   "metadata": {},
   "outputs": [],
   "source": [
    "# set up environment\n",
    "load_dotenv(override=True)\n",
    "api_key = os.getenv('GOOGLE_API_KEY_1')"
   ]
  },
  {
   "cell_type": "code",
   "execution_count": 5,
   "id": "3f0d0137-52b0-47a8-81a8-11a90a010798",
   "metadata": {},
   "outputs": [],
   "source": [
    "# here is the question; type over this to ask something new\n",
    "\n",
    "question = \"\"\"\n",
    "Please explain what this code does and why:\n",
    "yield from {book.get(\"author\") for book in books if book.get(\"author\")}\n",
    "\"\"\""
   ]
  },
  {
   "cell_type": "code",
   "execution_count": 6,
   "id": "60ce7000-a4a5-4cce-a261-e75ef45063b4",
   "metadata": {},
   "outputs": [],
   "source": [
    "# Get gpt-4o-mini to answer, with streaming\n",
    "model = ChatGoogleGenerativeAI(model=MODEL_GEMINI, api_key=api_key)"
   ]
  },
  {
   "cell_type": "code",
   "execution_count": null,
   "id": "c472a230-0275-4b6a-9855-def23723af18",
   "metadata": {},
   "outputs": [],
   "source": [
    "display_handle = display(Markdown(\"\"), display_id=True)\n",
    "response_text = \"\"\n",
    "\n",
    "for chunk in model.stream(question):\n",
    "    if chunk.content:\n",
    "        response_text += chunk.content\n",
    "        display_handle.update(Markdown(response_text))"
   ]
  },
  {
   "cell_type": "code",
   "execution_count": 9,
   "id": "8f7c8ea8-4082-4ad0-8751-3301adcf6538",
   "metadata": {},
   "outputs": [],
   "source": [
    "# Get Llama 3.2 to answer\n",
    "from langchain_ollama import ChatOllama\n",
    "model1 = ChatOllama(model=MODEL_LLAMA)"
   ]
  },
  {
   "cell_type": "code",
   "execution_count": 14,
   "id": "c95f3d64-e0a1-419f-8a90-155882bf2e15",
   "metadata": {},
   "outputs": [
    {
     "data": {
      "text/markdown": [
       "This line of code uses a combination of Python's dictionary methods, generator expressions, and the `yield from` statement to extract a list of authors from a collection of books.\n",
       "\n",
       "Here's a breakdown of what each part does:\n",
       "\n",
       "1. `{book.get(\"author\") for book in books if book.get(\"author\")}`:\n",
       "   - This is a dictionary comprehension that filters out any dictionaries (`book`) that do not have an `\"author\"` key.\n",
       "   - It then extracts the value associated with the `\"author\"` key from each remaining dictionary and includes it in the resulting list.\n",
       "\n",
       "2. `yield from { ... }`:\n",
       "   - The `yield from` statement is used to delegate a sub-generator to a generator, allowing you to handle large datasets one item at a time without loading the entire dataset into memory.\n",
       "   - In this case, `yield from` is used to turn the dictionary comprehension (which would normally return a list or other iterable) into a generator.\n",
       "\n",
       "Here's an example of how it might be used in practice:\n",
       "\n",
       "```python\n",
       "books = [\n",
       "    {\"title\": \"Book 1\", \"author\": \"Author 1\"},\n",
       "    {\"title\": \"Book 2\", \"author\": \"Author 2\"},\n",
       "    {\"title\": \"Book 3\"}\n",
       "]\n",
       "\n",
       "def get_authors(books):\n",
       "    return yield from {book.get(\"author\") for book in books if book.get(\"author\")}\n",
       "\n",
       "for author in get_authors(books):\n",
       "    print(author)\n",
       "```\n",
       "\n",
       "This would output:\n",
       "\n",
       "```\n",
       "Author 1\n",
       "Author 2\n",
       "```\n",
       "\n",
       "Because the `yield from` statement is used, this code does not load all the authors into memory at once. Instead, it generates each author one at a time, which can be more memory-efficient when working with large datasets.\n",
       "\n",
       "It's worth noting that in Python 3.10 and later, you can also use a dictionary comprehension with `yield from` like this:\n",
       "\n",
       "```python\n",
       "def get_authors(books):\n",
       "    return (book.get(\"author\") for book in books if book.get(\"author\"))\n",
       "\n",
       "for author in get_authors(books):\n",
       "    print(author)\n",
       "```\n",
       "\n",
       "This is a more concise way to achieve the same result. However, the original code is still valid and readable, especially when working with older versions of Python."
      ],
      "text/plain": [
       "<IPython.core.display.Markdown object>"
      ]
     },
     "metadata": {},
     "output_type": "display_data"
    }
   ],
   "source": [
    "display_handle = display(Markdown(\"\"), display_id=True)\n",
    "response_text = \"\"\n",
    "\n",
    "for chunk in model1.stream(question):\n",
    "    if chunk.content:\n",
    "        response_text += chunk.content\n",
    "        display_handle.update(Markdown(response_text))"
   ]
  },
  {
   "cell_type": "code",
   "execution_count": 12,
   "id": "97415c68-a061-4c60-ae2b-3a265f0f1c12",
   "metadata": {},
   "outputs": [
    {
     "name": "stdout",
     "output_type": "stream",
     "text": [
      "/bin/bash: line 1: llama: command not found\n"
     ]
    }
   ],
   "source": []
  },
  {
   "cell_type": "code",
   "execution_count": null,
   "id": "ba9ca03b-302e-4f2f-a9d4-548489e45737",
   "metadata": {},
   "outputs": [],
   "source": []
  },
  {
   "cell_type": "code",
   "execution_count": null,
   "id": "e23b9847-ec4d-4274-98af-ca10fd3e4d72",
   "metadata": {},
   "outputs": [],
   "source": []
  }
 ],
 "metadata": {
  "kernelspec": {
   "display_name": "Python 3 (ipykernel)",
   "language": "python",
   "name": "python3"
  },
  "language_info": {
   "codemirror_mode": {
    "name": "ipython",
    "version": 3
   },
   "file_extension": ".py",
   "mimetype": "text/x-python",
   "name": "python",
   "nbconvert_exporter": "python",
   "pygments_lexer": "ipython3",
   "version": "3.11.13"
  }
 },
 "nbformat": 4,
 "nbformat_minor": 5
}
