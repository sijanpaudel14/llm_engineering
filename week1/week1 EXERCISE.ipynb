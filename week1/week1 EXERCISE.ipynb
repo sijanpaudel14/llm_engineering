{
 "cells": [
  {
   "cell_type": "markdown",
   "id": "fe12c203-e6a6-452c-a655-afb8a03a4ff5",
   "metadata": {},
   "source": [
    "# End of week 1 exercise\n",
    "\n",
    "To demonstrate your familiarity with OpenAI API, and also Ollama, build a tool that takes a technical question,  \n",
    "and responds with an explanation. This is a tool that you will be able to use yourself during the course!"
   ]
  },
  {
   "cell_type": "code",
   "execution_count": 1,
   "id": "c1070317-3ed9-4659-abe3-828943230e03",
   "metadata": {},
   "outputs": [],
   "source": [
    "# imports\n",
    "from langchain_google_genai import ChatGoogleGenerativeAI\n",
    "from IPython.display import Markdown,display\n",
    "import os\n",
    "from dotenv import load_dotenv"
   ]
  },
  {
   "cell_type": "code",
   "execution_count": 2,
   "id": "4a456906-915a-4bfd-bb9d-57e505c5093f",
   "metadata": {},
   "outputs": [],
   "source": [
    "# constants\n",
    "MODEL_GEMINI ='gemini-2.0-flash'\n",
    "MODEL_GPT = 'gpt-4o-mini'\n",
    "MODEL_LLAMA = 'llama3.2'"
   ]
  },
  {
   "cell_type": "code",
   "execution_count": 3,
   "id": "a8d7923c-5f28-4c30-8556-342d7c8497c1",
   "metadata": {},
   "outputs": [],
   "source": [
    "# set up environment\n",
    "load_dotenv(override=True)\n",
    "api_key = os.getenv('GEMINI_API_KEY')"
   ]
  },
  {
   "cell_type": "code",
   "execution_count": 4,
   "id": "3f0d0137-52b0-47a8-81a8-11a90a010798",
   "metadata": {},
   "outputs": [],
   "source": [
    "# here is the question; type over this to ask something new\n",
    "\n",
    "question = \"\"\"\n",
    "Please explain what this code does and why:\n",
    "yield from {book.get(\"author\") for book in books if book.get(\"author\")}\n",
    "\"\"\""
   ]
  },
  {
   "cell_type": "code",
   "execution_count": 5,
   "id": "60ce7000-a4a5-4cce-a261-e75ef45063b4",
   "metadata": {},
   "outputs": [],
   "source": [
    "# Get gpt-4o-mini to answer, with streaming\n",
    "model = ChatGoogleGenerativeAI(model=MODEL_GEMINI, api_key=api_key)"
   ]
  },
  {
   "cell_type": "code",
   "execution_count": 7,
   "id": "c472a230-0275-4b6a-9855-def23723af18",
   "metadata": {},
   "outputs": [
    {
     "data": {
      "text/markdown": [
       "Okay, let's break down this Python code snippet:\n",
       "\n",
       "**Code:**\n",
       "\n",
       "```python\n",
       "yield from {book.get(\"author\") for book in books if book.get(\"author\")}\n",
       "```\n",
       "\n",
       "**Explanation**\n",
       "\n",
       "This code snippet is designed to be used within a generator function.  It extracts unique author names from a list of dictionaries (presumably representing books) and yields them one by one. Let's break it down piece by piece:\n",
       "\n",
       "1. **`books`:**  This is assumed to be a list of dictionaries.  Each dictionary is expected to represent a book and might have keys like \"title\", \"author\", \"publisher\", etc.\n",
       "\n",
       "2. **`book.get(\"author\")`:**  This is the crucial part for accessing the author's name. The `.get(\"author\")` method is used to safely retrieve the value associated with the key \"author\" from the `book` dictionary.  The important benefit of using `.get()` is that if the key \"author\" is *not* present in a particular book dictionary, it will return `None` (or a default value you specify as the second argument to `.get()`), rather than raising a `KeyError` exception.  This is much safer when dealing with potentially incomplete data.\n",
       "\n",
       "3. **`if book.get(\"author\")`:** This is a conditional check. It ensures that we only try to extract the author's name if the \"author\" key exists and has a non-falsy value.  This prevents `None` values (returned by `.get()` when \"author\" is missing) from being added to the set of authors. In Python, `None`, empty strings (`\"\"`), zero (0), empty lists (`[]`), and empty dictionaries (`{}`) are all considered \"falsy\" values in a boolean context.\n",
       "\n",
       "4. **`{book.get(\"author\") for book in books if book.get(\"author\")}`:** This is a set comprehension.  It's a concise way to create a set. Let's break it down:\n",
       "   - **`for book in books`:**  Iterates through each dictionary (book) in the `books` list.\n",
       "   - **`if book.get(\"author\")`:** As explained before, filters books to only include those with a non-falsy \"author\" value.\n",
       "   - **`book.get(\"author\")`:** Extracts the author's name from each book that passes the filter.\n",
       "   - **`{ ... }`:**  The curly braces create a *set*. A set is an unordered collection of *unique* elements.  This means that if an author appears multiple times in the `books` list, their name will only be added to the set once.  This ensures we get a list of *distinct* authors.\n",
       "\n",
       "5. **`yield from ...`:** This is the key to making this code part of a generator function.\n",
       "   - **`yield`:** In Python, `yield` is used to create a generator function. A generator function doesn't return a single value; instead, it returns an *iterator* that produces a sequence of values on demand.  Each time `yield` is encountered, the function's state is saved, and the yielded value is returned to the caller.  The next time the iterator is asked for a value, the function resumes from where it left off.\n",
       "   - **`yield from`:** This is a special syntax introduced in Python 3.3. It's a shortcut for yielding all the values from an iterable (in this case, the set of author names).  It's equivalent to writing:\n",
       "\n",
       "     ```python\n",
       "     for author in {book.get(\"author\") for book in books if book.get(\"author\")}:\n",
       "         yield author\n",
       "     ```\n",
       "\n",
       "**In summary, the code does the following:**\n",
       "\n",
       "1. Takes a list of book dictionaries as input.\n",
       "2. Extracts the \"author\" value from each book, but only if the \"author\" key exists and has a non-falsy value.\n",
       "3. Creates a set of unique author names.\n",
       "4. Yields each author name from the set, making it suitable for use in a generator function.\n",
       "\n",
       "**Why is this useful?**\n",
       "\n",
       "* **Memory Efficiency:**  Generators are memory-efficient, especially when dealing with large datasets.  Instead of creating a large list of authors in memory all at once, it yields them one at a time as needed.\n",
       "* **Uniqueness:** The use of a set guarantees that you only get unique author names, even if an author has multiple books in the list.\n",
       "* **Safety:**  Using `.get(\"author\")` avoids `KeyError` exceptions, making the code more robust.\n",
       "* **Conciseness:** The set comprehension and `yield from` syntax make the code relatively compact and readable.\n",
       "\n",
       "**Example**\n",
       "\n",
       "```python\n",
       "books = [\n",
       "    {\"title\": \"The Lord of the Rings\", \"author\": \"J.R.R. Tolkien\"},\n",
       "    {\"title\": \"The Hobbit\", \"author\": \"J.R.R. Tolkien\"},\n",
       "    {\"title\": \"Pride and Prejudice\", \"author\": \"Jane Austen\"},\n",
       "    {\"title\": \"1984\", \"author\": \"George Orwell\"},\n",
       "    {\"title\": \"Animal Farm\", \"author\": \"George Orwell\"},\n",
       "    {\"title\": \"Brave New World\"}, # Missing author\n",
       "    {\"title\": \"Moby Dick\", \"author\": None} # Author is None\n",
       "]\n",
       "\n",
       "def get_authors(books):\n",
       "    yield from {book.get(\"author\") for book in books if book.get(\"author\")}\n",
       "\n",
       "for author in get_authors(books):\n",
       "    print(author)\n",
       "```\n",
       "\n",
       "**Output:**\n",
       "\n",
       "```\n",
       "Jane Austen\n",
       "J.R.R. Tolkien\n",
       "George Orwell\n",
       "```\n",
       "\n",
       "As you can see, the output only includes the unique author names, and it excludes books where the \"author\" key is missing or has a falsy value (like `None`).\n"
      ],
      "text/plain": [
       "<IPython.core.display.Markdown object>"
      ]
     },
     "metadata": {},
     "output_type": "display_data"
    }
   ],
   "source": [
    "display_handle = display(Markdown(\"\"), display_id=True)\n",
    "response_text = \"\"\n",
    "\n",
    "for chunk in model.stream(question):\n",
    "    if chunk.content:\n",
    "        response_text += chunk.content\n",
    "        display_handle.update(Markdown(response_text))"
   ]
  },
  {
   "cell_type": "code",
   "execution_count": 8,
   "id": "8f7c8ea8-4082-4ad0-8751-3301adcf6538",
   "metadata": {},
   "outputs": [],
   "source": [
    "# Get Llama 3.2 to answer\n",
    "from langchain_ollama import ChatOllama\n",
    "model1 = ChatOllama(model=MODEL_LLAMA)"
   ]
  },
  {
   "cell_type": "code",
   "execution_count": 11,
   "id": "c95f3d64-e0a1-419f-8a90-155882bf2e15",
   "metadata": {},
   "outputs": [
    {
     "data": {
      "text/markdown": [
       "This line of code is written in Python and utilizes a feature called \"generator expression\" or \"dictionary comprehension\". It's used to generate values from an iterable dictionary (`books`) while filtering out items that don't have the key `\"author\"`.\n",
       "\n",
       "Here's a breakdown:\n",
       "\n",
       "- `{}`: This creates an empty dictionary, but since we're using it as a context manager in this case, it doesn't actually create an empty dict. It's more like an empty container for values.\n",
       "\n",
       "- `book.get(\"author\")`: For each item (`book`) in the iterable (`books`), this line retrieves the value associated with the key `\"author\"` (if it exists). The `.get()` method returns `None` by default if the key is not found, but you can also specify a second argument to return a different default value.\n",
       "\n",
       "- `{}`: This means \"use the values from the expression above\".\n",
       "\n",
       "- `for book in books`: This line indicates that `books` should be iterated over as it was specified.\n",
       "\n",
       "- `yield from {...}`: The outer context manager (`{book.get(\"author\") for book in books if book.get(\"author\")}`) uses this feature. \n",
       "\n",
       "This line is essentially equivalent to the following:\n",
       "\n",
       "```python\n",
       "for value in yield from ({book.get(\"author\")} for book in books if book.get(\"author\")):\n",
       "    # Do something with 'value'\n",
       "```\n",
       "\n",
       "The `yield from` expression allows us to combine multiple generator expressions into one single iterable, which can be useful when we need to iterate over the values of a dictionary while ensuring they meet some criteria. \n",
       "\n",
       "However, this is not an \"iterable\" dictionary itself, but rather it's using the value retrieved by `.get(\"author\")`. If there are any books with no author (i.e., `None`), they will be skipped.\n",
       "\n",
       "If we wanted to get all values from these dictionaries and then filter them, we would do something like this:\n",
       "\n",
       "```python\n",
       "author_names = [book.get(\"author\") for book in books if book.get(\"author\")]\n",
       "filtered_author_names = [name for name in author_names if name is not None]\n",
       "```\n",
       "\n",
       "Or with `yield from`:\n",
       "\n",
       "```python\n",
       "for value in yield from ({value} for value in (book.get(\"author\") for book in books if book.get(\"author\"))):\n",
       "    # Do something with 'value'\n",
       "filtered_author_names = []\n",
       "for value in filtered_author_names:\n",
       "    if value is not None:\n",
       "        filtered_author_names.append(value)\n",
       "```"
      ],
      "text/plain": [
       "<IPython.core.display.Markdown object>"
      ]
     },
     "metadata": {},
     "output_type": "display_data"
    }
   ],
   "source": [
    "display_handle = display(Markdown(\"\"), display_id=True)\n",
    "response_text = \"\"\n",
    "\n",
    "for chunk in model1.stream(question):\n",
    "    if chunk.content:\n",
    "        response_text += chunk.content\n",
    "        display_handle.update(Markdown(response_text))"
   ]
  },
  {
   "cell_type": "code",
   "execution_count": null,
   "id": "ba9ca03b-302e-4f2f-a9d4-548489e45737",
   "metadata": {},
   "outputs": [],
   "source": []
  }
 ],
 "metadata": {
  "kernelspec": {
   "display_name": "Python 3 (ipykernel)",
   "language": "python",
   "name": "python3"
  },
  "language_info": {
   "codemirror_mode": {
    "name": "ipython",
    "version": 3
   },
   "file_extension": ".py",
   "mimetype": "text/x-python",
   "name": "python",
   "nbconvert_exporter": "python",
   "pygments_lexer": "ipython3",
   "version": "3.11.13"
  }
 },
 "nbformat": 4,
 "nbformat_minor": 5
}
