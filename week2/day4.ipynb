{
 "cells": [
  {
   "cell_type": "markdown",
   "id": "ddfa9ae6-69fe-444a-b994-8c4c5970a7ec",
   "metadata": {},
   "source": [
    "# Project - Airline AI Assistant\n",
    "\n",
    "We'll now bring together what we've learned to make an AI Customer Support assistant for an Airline"
   ]
  },
  {
   "cell_type": "code",
   "execution_count": 202,
   "id": "8b50bbe2-c0b1-49c3-9a5c-1ba7efa2bcb4",
   "metadata": {},
   "outputs": [],
   "source": [
    "# imports\n",
    "\n",
    "import os\n",
    "import json\n",
    "from dotenv import load_dotenv\n",
    "from openai import OpenAI\n",
    "import gradio as gr\n",
    "from langchain_google_genai import ChatGoogleGenerativeAI\n",
    "from langchain.schema import HumanMessage, SystemMessage, AIMessage\n",
    "from langchain_core.messages import ToolMessage\n",
    "from langchain_core.tools import tool\n",
    "\n"
   ]
  },
  {
   "cell_type": "code",
   "execution_count": 226,
   "id": "747e8786-9da8-4342-b6c9-f5f69c2e22ae",
   "metadata": {},
   "outputs": [
    {
     "name": "stdout",
     "output_type": "stream",
     "text": [
      "Google API Key exists and begins AIzaSyA6\n"
     ]
    }
   ],
   "source": [
    "# Load environment variables in a file called .env\n",
    "# Print the key prefixes to help with any debugging\n",
    "\n",
    "load_dotenv(override=True)\n",
    "api_key = os.getenv(\"GOOGLE_API_KEY_1\")\n",
    "\n",
    "if api_key:\n",
    "    print(f\"Google API Key exists and begins {api_key[:8]}\")\n",
    "else:\n",
    "    print(\"Google API Key not set\")"
   ]
  },
  {
   "cell_type": "code",
   "execution_count": 227,
   "id": "6417f645-86ed-4f0f-939d-b9b3afe8156f",
   "metadata": {},
   "outputs": [],
   "source": [
    "MODEL = \"gemini-2.0-flash\"\n",
    "model = ChatGoogleGenerativeAI(model=MODEL, api_key=api_key)"
   ]
  },
  {
   "cell_type": "code",
   "execution_count": 228,
   "id": "0a521d84-d07c-49ab-a0df-d6451499ed97",
   "metadata": {},
   "outputs": [],
   "source": [
    "system_message = (\n",
    "    \"You are a helpful assistant for an airline called FlightAI. \"\n",
    "\"Whenever the user asks for a ticket price, you **must call the 'get_ticket_price' function** to get the correct price. \"\n",
    "\"Do not guess or make up prices. Give short, courteous answers in a natural way.\"\n",
    ")"
   ]
  },
  {
   "cell_type": "code",
   "execution_count": 68,
   "id": "7d1d20eb-d4d5-4ada-aec1-c8201ccb0cd5",
   "metadata": {},
   "outputs": [
    {
     "data": {
      "text/plain": [
       "\"You are a helpful assistant for an airline called FlightAI. Whenever the user asks about ticket prices, always call the 'get_ticket_price' function to get the correct price. Give short, courteous answers, no more than 1 sentence. If you don't know the answer, say so.\""
      ]
     },
     "execution_count": 68,
     "metadata": {},
     "output_type": "execute_result"
    }
   ],
   "source": [
    "system_message"
   ]
  },
  {
   "cell_type": "code",
   "execution_count": 69,
   "id": "61a2a15d-b559-4844-b377-6bd5cb4949f6",
   "metadata": {},
   "outputs": [
    {
     "name": "stdout",
     "output_type": "stream",
     "text": [
      "* Running on local URL:  http://127.0.0.1:7871\n",
      "* To create a public link, set `share=True` in `launch()`.\n"
     ]
    },
    {
     "data": {
      "text/html": [
       "<div><iframe src=\"http://127.0.0.1:7871/\" width=\"100%\" height=\"500\" allow=\"autoplay; camera; microphone; clipboard-read; clipboard-write;\" frameborder=\"0\" allowfullscreen></iframe></div>"
      ],
      "text/plain": [
       "<IPython.core.display.HTML object>"
      ]
     },
     "metadata": {},
     "output_type": "display_data"
    },
    {
     "data": {
      "text/plain": []
     },
     "execution_count": 69,
     "metadata": {},
     "output_type": "execute_result"
    }
   ],
   "source": [
    "# This function looks rather simpler than the one from my video, because we're taking advantage of the latest Gradio updates\n",
    "\n",
    "def chat(message, history):\n",
    "    messages = [{\"role\": \"system\", \"content\": system_message}] + history + [{\"role\": \"user\", \"content\": message}]\n",
    "    print(f\"{messages}\\n\\n\\n\")\n",
    "    response = model.invoke(messages)\n",
    "    return response.content\n",
    "\n",
    "gr.ChatInterface(fn=chat, type=\"messages\").launch()"
   ]
  },
  {
   "cell_type": "markdown",
   "id": "36bedabf-a0a7-4985-ad8e-07ed6a55a3a4",
   "metadata": {},
   "source": [
    "## Tools\n",
    "\n",
    "Tools are an incredibly powerful feature provided by the frontier LLMs.\n",
    "\n",
    "With tools, you can write a function, and have the LLM call that function as part of its response.\n",
    "\n",
    "Sounds almost spooky.. we're giving it the power to run code on our machine?\n",
    "\n",
    "Well, kinda."
   ]
  },
  {
   "cell_type": "code",
   "execution_count": 203,
   "id": "0696acb1-0b05-4dc2-80d5-771be04f1fb2",
   "metadata": {},
   "outputs": [],
   "source": [
    "# Let's start by making a useful function\n",
    "\n",
    "ticket_prices = {\"london\": \"$799\", \"paris\": \"$899\", \"tokyo\": \"$1400\", \"berlin\": \"$499\"}\n",
    "\n",
    "\n",
    "\n",
    "def get_ticket_price(destination_city):\n",
    "    \"\"\"\n",
    "    Python function that returns the price of a ticket to a given city.\n",
    "    Get the price of a return ticket to the destination city.Call this whenever you need to know the ticket price, for example \" \"when a customer asks 'How much is a ticket to this city'\n",
    "    Args:\n",
    "        destination_city (str): Name of the city\n",
    "    Returns:\n",
    "        str: Ticket price or 'Unknown' if the city is not listed\n",
    "    \"\"\"\n",
    "    print(f\"[TOOL] get_ticket_price called with destination_city='{destination_city}'\")\n",
    "    city = destination_city.lower()  # Normalize input for dictionary lookup\n",
    "    price = ticket_prices.get(city, \"Unknown\")\n",
    "    print(f\"[TOOL] Returning price: {price}\")\n",
    "    return price\n"
   ]
  },
  {
   "cell_type": "code",
   "execution_count": 71,
   "id": "80ca4e09-6287-4d3f-997d-fa6afbcf6c85",
   "metadata": {},
   "outputs": [
    {
     "name": "stdout",
     "output_type": "stream",
     "text": [
      "[TOOL] get_ticket_price called with destination_city='Berlin'\n",
      "[TOOL] Returning price: $499\n"
     ]
    },
    {
     "data": {
      "text/plain": [
       "'$499'"
      ]
     },
     "execution_count": 71,
     "metadata": {},
     "output_type": "execute_result"
    }
   ],
   "source": [
    "get_ticket_price(\"Berlin\")"
   ]
  },
  {
   "cell_type": "code",
   "execution_count": 72,
   "id": "4afceded-7178-4c05-8fa6-9f2085e6a344",
   "metadata": {
    "scrolled": true
   },
   "outputs": [],
   "source": [
    "# -----------------------------\n",
    "# 3️⃣ Tool Descriptor (Function Metadata)\n",
    "# -----------------------------\n",
    "# This tells the model about the tool: its name, description, and input arguments\n",
    "price_function = {\n",
    "    \"name\": \"get_ticket_price\",\n",
    "    \"description\": (\n",
    "        \"Get the price of a return ticket to the destination city. \"\n",
    "        \"Call this whenever you need to know the ticket price, for example \"\n",
    "        \"when a customer asks 'How much is a ticket to this city'\"\n",
    "    ),\n",
    "    \"parameters\": {\n",
    "        \"type\": \"object\",  # input is a JSON object\n",
    "        \"properties\": {\n",
    "            \"destination_city\": {\n",
    "                \"type\": \"string\",\n",
    "                \"description\": \"The city that the customer wants to travel to\"\n",
    "            },\n",
    "        },\n",
    "        \"required\": [\"destination_city\"],  # city is required\n",
    "    }\n",
    "}\n"
   ]
  },
  {
   "cell_type": "code",
   "execution_count": 206,
   "id": "bdca8679-935f-4e7f-97e6-e71a4d4f228c",
   "metadata": {},
   "outputs": [],
   "source": [
    "# Tools list that will be passed to the model\n",
    "tools = [price_function]"
   ]
  },
  {
   "cell_type": "markdown",
   "id": "c3d3554f-b4e3-4ce7-af6f-68faa6dd2340",
   "metadata": {},
   "source": [
    "## Getting OpenAI to use our Tool\n",
    "\n",
    "There's some fiddly stuff to allow OpenAI \"to call our tool\"\n",
    "\n",
    "What we actually do is give the LLM the opportunity to inform us that it wants us to run the tool.\n",
    "\n",
    "Here's how the new chat function looks:"
   ]
  },
  {
   "cell_type": "code",
   "execution_count": 74,
   "id": "b0992986-ea09-4912-a076-8e5603ee631f",
   "metadata": {},
   "outputs": [],
   "source": [
    "# # We have to write that function handle_tool_call:\n",
    "\n",
    "# def handle_tool_call(message):\n",
    "#     tool_call = message.tool_calls[0]\n",
    "#     arguments = json.loads(tool_call.function.arguments)\n",
    "#     city = arguments.get('destination_city')\n",
    "#     price = get_ticket_price(city)\n",
    "#     response = {\n",
    "#         \"role\": \"tool\",\n",
    "#         \"content\": json.dumps({\"destination_city\": city,\"price\": price}),\n",
    "#         \"tool_call_id\": tool_call.id\n",
    "#     }\n",
    "#     return response, city"
   ]
  },
  {
   "cell_type": "code",
   "execution_count": 176,
   "id": "ce9b0744-9c78-408d-b9df-9f6fd9ed78cf",
   "metadata": {},
   "outputs": [],
   "source": [
    "# def chat(message, history):\n",
    "#     messages = [{\"role\": \"system\", \"content\": system_message}] + history + [{\"role\": \"user\", \"content\": message}]\n",
    "#     response = model.invoke( messages=messages, tools=tools)\n",
    "\n",
    "#     if response.choices[0].finish_reason==\"tool_calls\":\n",
    "#         message = response.choices[0].message\n",
    "#         response, city = handle_tool_call(message)\n",
    "#         messages.append(message)\n",
    "#         messages.append(response)\n",
    "#         response = openai.chat.completions.create(model=MODEL, messages=messages)\n",
    "    \n",
    "#     return response.choices[0].message.content"
   ]
  },
  {
   "cell_type": "code",
   "execution_count": null,
   "id": "c527028f-c81b-4230-9537-f67b1237b6c4",
   "metadata": {},
   "outputs": [],
   "source": []
  },
  {
   "cell_type": "code",
   "execution_count": null,
   "id": "149c787a-ab45-439f-b169-57521dd6fada",
   "metadata": {},
   "outputs": [],
   "source": []
  },
  {
   "cell_type": "code",
   "execution_count": 255,
   "id": "11fd3241-4fff-4a5d-b1e2-296a5348feb7",
   "metadata": {},
   "outputs": [],
   "source": [
    "from langchain_core.messages import AIMessage, HumanMessage, SystemMessage, ToolMessage\n",
    "\n",
    "def chat(user_input, history):\n",
    "    print(f\"\\n[CHAT] User input: {user_input}\")\n",
    "\n",
    "    # Build conversation messages\n",
    "    messages = [SystemMessage(content=\"You are a helpful assistant.\")] # Assuming a system message\n",
    "    for h in history:\n",
    "        role = HumanMessage if h[\"role\"] == \"user\" else AIMessage\n",
    "        messages.append(role(content=h[\"content\"]))\n",
    "    messages.append(HumanMessage(content=user_input))\n",
    "\n",
    "    # Bind tools and force usage\n",
    "    model_with_tools = model.bind_tools(tools, tool_choice=\"any\")\n",
    "    response = model_with_tools.invoke(messages)\n",
    "\n",
    "    # Check if the model made a tool call\n",
    "    if tool_calls := getattr(response, \"tool_calls\", None):\n",
    "        # --- Start of Changes ---\n",
    "\n",
    "        # 1. Append the model's response (which contains the tool call) to the history\n",
    "        messages.append(response)\n",
    "\n",
    "        # 2. Execute each tool call and create a ToolMessage for each\n",
    "        for tool_call in tool_calls:\n",
    "            city = tool_call[\"args\"][\"destination_city\"]\n",
    "            price = get_ticket_price(city)\n",
    "            print(f\"[TOOL] Called get_ticket_price for '{city}', returned: {price}\")\n",
    "            \n",
    "            # 3. Append the ToolMessage with the result and the original tool_call_id\n",
    "            messages.append(ToolMessage(\n",
    "                content=str(price), # The content should be the raw output of the tool\n",
    "                tool_call_id=tool_call['id']\n",
    "            ))\n",
    "\n",
    "        # --- End of Changes ---\n",
    "\n",
    "        # Call model again so it can respond naturally\n",
    "        response = model.invoke(messages)\n",
    "        print(f\"[CHAT] Response is: {response.content}\")\n",
    "\n",
    "    return response.content"
   ]
  },
  {
   "cell_type": "code",
   "execution_count": 256,
   "id": "f4be8a71-b19e-4c2f-80df-f59ff2661f14",
   "metadata": {},
   "outputs": [
    {
     "name": "stdout",
     "output_type": "stream",
     "text": [
      "* Running on local URL:  http://127.0.0.1:7940\n",
      "* To create a public link, set `share=True` in `launch()`.\n"
     ]
    },
    {
     "data": {
      "text/html": [
       "<div><iframe src=\"http://127.0.0.1:7940/\" width=\"100%\" height=\"500\" allow=\"autoplay; camera; microphone; clipboard-read; clipboard-write;\" frameborder=\"0\" allowfullscreen></iframe></div>"
      ],
      "text/plain": [
       "<IPython.core.display.HTML object>"
      ]
     },
     "metadata": {},
     "output_type": "display_data"
    },
    {
     "data": {
      "text/plain": []
     },
     "execution_count": 256,
     "metadata": {},
     "output_type": "execute_result"
    },
    {
     "name": "stdout",
     "output_type": "stream",
     "text": [
      "\n",
      "[CHAT] User input: price to london?\n",
      "[TOOL] get_ticket_price called with destination_city='london'\n",
      "[TOOL] Returning price: $799\n",
      "[TOOL] Called get_ticket_price for 'london', returned: $799\n",
      "[CHAT] Response is: The price to London is $799.\n",
      "\n",
      "[CHAT] User input: I'd like to go to Paris?\n",
      "[TOOL] get_ticket_price called with destination_city='Paris'\n",
      "[TOOL] Returning price: $899\n",
      "[TOOL] Called get_ticket_price for 'Paris', returned: $899\n",
      "[CHAT] Response is: The price to Paris is $899.\n",
      "\n",
      "[CHAT] User input: and tokyo?\n",
      "[TOOL] get_ticket_price called with destination_city='tokyo'\n",
      "[TOOL] Returning price: $1400\n",
      "[TOOL] Called get_ticket_price for 'tokyo', returned: $1400\n",
      "[CHAT] Response is: The price to Tokyo is $1400.\n",
      "\n",
      "[CHAT] User input: and berlin\n",
      "[TOOL] get_ticket_price called with destination_city='Berlin'\n",
      "[TOOL] Returning price: $499\n",
      "[TOOL] Called get_ticket_price for 'Berlin', returned: $499\n",
      "[CHAT] Response is: The price to Berlin is $499.\n",
      "\n",
      "[CHAT] User input: and paris\n",
      "[TOOL] get_ticket_price called with destination_city='Paris'\n",
      "[TOOL] Returning price: $899\n",
      "[TOOL] Called get_ticket_price for 'Paris', returned: $899\n",
      "[CHAT] Response is: The price to Paris is $899.\n",
      "\n",
      "[CHAT] User input: and tokyo\n",
      "[TOOL] get_ticket_price called with destination_city='Tokyo'\n",
      "[TOOL] Returning price: $1400\n",
      "[TOOL] Called get_ticket_price for 'Tokyo', returned: $1400\n",
      "[CHAT] Response is: The price to Tokyo is $1400.\n",
      "\n",
      "[CHAT] User input: and berlin\n",
      "[TOOL] get_ticket_price called with destination_city='Berlin'\n",
      "[TOOL] Returning price: $499\n",
      "[TOOL] Called get_ticket_price for 'Berlin', returned: $499\n",
      "[CHAT] Response is: The price to Berlin is $499.\n",
      "\n",
      "[CHAT] User input: and nepal\n",
      "[TOOL] get_ticket_price called with destination_city='Nepal'\n",
      "[TOOL] Returning price: Unknown\n",
      "[TOOL] Called get_ticket_price for 'Nepal', returned: Unknown\n",
      "[CHAT] Response is: I am sorry, I don't have the price to Nepal.\n",
      "\n",
      "[CHAT] User input: Which places you have the price of?\n",
      "[TOOL] get_ticket_price called with destination_city='London'\n",
      "[TOOL] Returning price: $799\n",
      "[TOOL] Called get_ticket_price for 'London', returned: $799\n",
      "[TOOL] get_ticket_price called with destination_city='Paris'\n",
      "[TOOL] Returning price: $899\n",
      "[TOOL] Called get_ticket_price for 'Paris', returned: $899\n",
      "[TOOL] get_ticket_price called with destination_city='Tokyo'\n",
      "[TOOL] Returning price: $1400\n",
      "[TOOL] Called get_ticket_price for 'Tokyo', returned: $1400\n",
      "[TOOL] get_ticket_price called with destination_city='Berlin'\n",
      "[TOOL] Returning price: $499\n",
      "[TOOL] Called get_ticket_price for 'Berlin', returned: $499\n",
      "[CHAT] Response is: I have prices for London ($799), Paris ($899), Tokyo ($1400), and Berlin ($499).\n"
     ]
    }
   ],
   "source": [
    "gr.ChatInterface(fn=chat, type=\"messages\").launch()"
   ]
  },
  {
   "cell_type": "code",
   "execution_count": null,
   "id": "fc6b2687-1b6c-45a7-b204-f04ed81de93f",
   "metadata": {},
   "outputs": [],
   "source": []
  },
  {
   "cell_type": "code",
   "execution_count": null,
   "id": "0aeb91a7-9db2-4e4f-a30c-de0588d9fb93",
   "metadata": {},
   "outputs": [],
   "source": []
  },
  {
   "cell_type": "code",
   "execution_count": null,
   "id": "c8214f65-5f10-4a6e-920a-d5c7a4ec6af9",
   "metadata": {},
   "outputs": [],
   "source": []
  },
  {
   "cell_type": "code",
   "execution_count": null,
   "id": "a2ec2c9e-70fe-4251-aa04-073aa3463f45",
   "metadata": {},
   "outputs": [],
   "source": []
  },
  {
   "cell_type": "code",
   "execution_count": null,
   "id": "ae6864e0-ef25-4614-814b-e1794722f43b",
   "metadata": {},
   "outputs": [],
   "source": []
  },
  {
   "cell_type": "code",
   "execution_count": null,
   "id": "19c63d49-d709-4638-b1ea-7831cd89020b",
   "metadata": {},
   "outputs": [],
   "source": []
  },
  {
   "cell_type": "code",
   "execution_count": null,
   "id": "5c841a9c-06e5-415f-87be-16e2d87d45ba",
   "metadata": {},
   "outputs": [],
   "source": []
  },
  {
   "cell_type": "code",
   "execution_count": null,
   "id": "8ccfc9b1-7a1d-45e0-aea2-fbb8008208fb",
   "metadata": {},
   "outputs": [],
   "source": []
  },
  {
   "cell_type": "code",
   "execution_count": null,
   "id": "9b5e2182-1d2d-410c-bb4f-98c6f2c7cda7",
   "metadata": {},
   "outputs": [],
   "source": []
  },
  {
   "cell_type": "code",
   "execution_count": null,
   "id": "667da219-51c0-410e-bc6c-0c284391048a",
   "metadata": {},
   "outputs": [],
   "source": []
  }
 ],
 "metadata": {
  "kernelspec": {
   "display_name": "Python 3 (ipykernel)",
   "language": "python",
   "name": "python3"
  },
  "language_info": {
   "codemirror_mode": {
    "name": "ipython",
    "version": 3
   },
   "file_extension": ".py",
   "mimetype": "text/x-python",
   "name": "python",
   "nbconvert_exporter": "python",
   "pygments_lexer": "ipython3",
   "version": "3.11.13"
  }
 },
 "nbformat": 4,
 "nbformat_minor": 5
}
